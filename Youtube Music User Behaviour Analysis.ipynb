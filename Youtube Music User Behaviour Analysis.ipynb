{
 "cells": [
  {
   "cell_type": "markdown",
   "metadata": {
    "id": "E0vqbgi9ay0H"
   },
   "source": [
    "# Youtube Music User Behavior Analysis"
   ]
  },
  {
   "cell_type": "markdown",
   "metadata": {
    "id": "VUC88oWjTJw2"
   },
   "source": [
    "# Tujuan: \n",
    "Menguji tiga hipotesis:\n",
    "1. Aktivitas pengguna berbeda-beda tergantung pada hari dan kotanya.\n",
    "2. Pada senin pagi, penduduk Springfield dan Shelbyville mendengarkan genre yang berbeda. Hal ini juga ini juga berlaku untuk Jumat malam.\n",
    "3. Pendengar di Springfield dan Shelbyville memiliki preferensi yang berbeda. Di Springfield, mereka lebih suka musik pop, sementara Shelbyville, musik rap memiliki lebih banyak penggemar."
   ]
  },
  {
   "cell_type": "markdown",
   "metadata": {
    "id": "Ml1hmfXC_Zcs"
   },
   "source": [
    "## Data Exploration <a id='data_review'></a>"
   ]
  },
  {
   "cell_type": "code",
   "execution_count": 1,
   "metadata": {
    "id": "AXN7PHPN_Zcs"
   },
   "outputs": [],
   "source": [
    "import pandas as pd"
   ]
  },
  {
   "cell_type": "code",
   "execution_count": 2,
   "metadata": {
    "id": "fFVu7vqh_Zct"
   },
   "outputs": [],
   "source": [
    "df = pd.read_csv('/datasets/music_project_en.csv')"
   ]
  },
  {
   "cell_type": "code",
   "execution_count": 3,
   "metadata": {
    "id": "oWTVX3gW_Zct",
    "scrolled": true
   },
   "outputs": [
    {
     "data": {
      "text/html": [
       "<div>\n",
       "<style scoped>\n",
       "    .dataframe tbody tr th:only-of-type {\n",
       "        vertical-align: middle;\n",
       "    }\n",
       "\n",
       "    .dataframe tbody tr th {\n",
       "        vertical-align: top;\n",
       "    }\n",
       "\n",
       "    .dataframe thead th {\n",
       "        text-align: right;\n",
       "    }\n",
       "</style>\n",
       "<table border=\"1\" class=\"dataframe\">\n",
       "  <thead>\n",
       "    <tr style=\"text-align: right;\">\n",
       "      <th></th>\n",
       "      <th>userID</th>\n",
       "      <th>Track</th>\n",
       "      <th>artist</th>\n",
       "      <th>genre</th>\n",
       "      <th>City</th>\n",
       "      <th>time</th>\n",
       "      <th>Day</th>\n",
       "    </tr>\n",
       "  </thead>\n",
       "  <tbody>\n",
       "    <tr>\n",
       "      <th>0</th>\n",
       "      <td>FFB692EC</td>\n",
       "      <td>Kamigata To Boots</td>\n",
       "      <td>The Mass Missile</td>\n",
       "      <td>rock</td>\n",
       "      <td>Shelbyville</td>\n",
       "      <td>20:28:33</td>\n",
       "      <td>Wednesday</td>\n",
       "    </tr>\n",
       "    <tr>\n",
       "      <th>1</th>\n",
       "      <td>55204538</td>\n",
       "      <td>Delayed Because of Accident</td>\n",
       "      <td>Andreas Rönnberg</td>\n",
       "      <td>rock</td>\n",
       "      <td>Springfield</td>\n",
       "      <td>14:07:09</td>\n",
       "      <td>Friday</td>\n",
       "    </tr>\n",
       "    <tr>\n",
       "      <th>2</th>\n",
       "      <td>20EC38</td>\n",
       "      <td>Funiculì funiculà</td>\n",
       "      <td>Mario Lanza</td>\n",
       "      <td>pop</td>\n",
       "      <td>Shelbyville</td>\n",
       "      <td>20:58:07</td>\n",
       "      <td>Wednesday</td>\n",
       "    </tr>\n",
       "    <tr>\n",
       "      <th>3</th>\n",
       "      <td>A3DD03C9</td>\n",
       "      <td>Dragons in the Sunset</td>\n",
       "      <td>Fire + Ice</td>\n",
       "      <td>folk</td>\n",
       "      <td>Shelbyville</td>\n",
       "      <td>08:37:09</td>\n",
       "      <td>Monday</td>\n",
       "    </tr>\n",
       "    <tr>\n",
       "      <th>4</th>\n",
       "      <td>E2DC1FAE</td>\n",
       "      <td>Soul People</td>\n",
       "      <td>Space Echo</td>\n",
       "      <td>dance</td>\n",
       "      <td>Springfield</td>\n",
       "      <td>08:34:34</td>\n",
       "      <td>Monday</td>\n",
       "    </tr>\n",
       "    <tr>\n",
       "      <th>5</th>\n",
       "      <td>842029A1</td>\n",
       "      <td>Chains</td>\n",
       "      <td>Obladaet</td>\n",
       "      <td>rusrap</td>\n",
       "      <td>Shelbyville</td>\n",
       "      <td>13:09:41</td>\n",
       "      <td>Friday</td>\n",
       "    </tr>\n",
       "    <tr>\n",
       "      <th>6</th>\n",
       "      <td>4CB90AA5</td>\n",
       "      <td>True</td>\n",
       "      <td>Roman Messer</td>\n",
       "      <td>dance</td>\n",
       "      <td>Springfield</td>\n",
       "      <td>13:00:07</td>\n",
       "      <td>Wednesday</td>\n",
       "    </tr>\n",
       "    <tr>\n",
       "      <th>7</th>\n",
       "      <td>F03E1C1F</td>\n",
       "      <td>Feeling This Way</td>\n",
       "      <td>Polina Griffith</td>\n",
       "      <td>dance</td>\n",
       "      <td>Springfield</td>\n",
       "      <td>20:47:49</td>\n",
       "      <td>Wednesday</td>\n",
       "    </tr>\n",
       "    <tr>\n",
       "      <th>8</th>\n",
       "      <td>8FA1D3BE</td>\n",
       "      <td>L’estate</td>\n",
       "      <td>Julia Dalia</td>\n",
       "      <td>ruspop</td>\n",
       "      <td>Springfield</td>\n",
       "      <td>09:17:40</td>\n",
       "      <td>Friday</td>\n",
       "    </tr>\n",
       "    <tr>\n",
       "      <th>9</th>\n",
       "      <td>E772D5C0</td>\n",
       "      <td>Pessimist</td>\n",
       "      <td>NaN</td>\n",
       "      <td>dance</td>\n",
       "      <td>Shelbyville</td>\n",
       "      <td>21:20:49</td>\n",
       "      <td>Wednesday</td>\n",
       "    </tr>\n",
       "  </tbody>\n",
       "</table>\n",
       "</div>"
      ],
      "text/plain": [
       "     userID                        Track            artist   genre  \\\n",
       "0  FFB692EC            Kamigata To Boots  The Mass Missile    rock   \n",
       "1  55204538  Delayed Because of Accident  Andreas Rönnberg    rock   \n",
       "2    20EC38            Funiculì funiculà       Mario Lanza     pop   \n",
       "3  A3DD03C9        Dragons in the Sunset        Fire + Ice    folk   \n",
       "4  E2DC1FAE                  Soul People        Space Echo   dance   \n",
       "5  842029A1                       Chains          Obladaet  rusrap   \n",
       "6  4CB90AA5                         True      Roman Messer   dance   \n",
       "7  F03E1C1F             Feeling This Way   Polina Griffith   dance   \n",
       "8  8FA1D3BE                     L’estate       Julia Dalia  ruspop   \n",
       "9  E772D5C0                    Pessimist               NaN   dance   \n",
       "\n",
       "        City        time        Day  \n",
       "0  Shelbyville  20:28:33  Wednesday  \n",
       "1  Springfield  14:07:09     Friday  \n",
       "2  Shelbyville  20:58:07  Wednesday  \n",
       "3  Shelbyville  08:37:09     Monday  \n",
       "4  Springfield  08:34:34     Monday  \n",
       "5  Shelbyville  13:09:41     Friday  \n",
       "6  Springfield  13:00:07  Wednesday  \n",
       "7  Springfield  20:47:49  Wednesday  \n",
       "8  Springfield  09:17:40     Friday  \n",
       "9  Shelbyville  21:20:49  Wednesday  "
      ]
     },
     "execution_count": 3,
     "metadata": {},
     "output_type": "execute_result"
    }
   ],
   "source": [
    "df.head(10)"
   ]
  },
  {
   "cell_type": "code",
   "execution_count": 4,
   "metadata": {
    "id": "DSf2kIb-_Zct",
    "scrolled": false
   },
   "outputs": [
    {
     "name": "stdout",
     "output_type": "stream",
     "text": [
      "<class 'pandas.core.frame.DataFrame'>\n",
      "RangeIndex: 65079 entries, 0 to 65078\n",
      "Data columns (total 7 columns):\n",
      " #   Column    Non-Null Count  Dtype \n",
      "---  ------    --------------  ----- \n",
      " 0     userID  65079 non-null  object\n",
      " 1   Track     63736 non-null  object\n",
      " 2   artist    57512 non-null  object\n",
      " 3   genre     63881 non-null  object\n",
      " 4     City    65079 non-null  object\n",
      " 5   time      65079 non-null  object\n",
      " 6   Day       65079 non-null  object\n",
      "dtypes: object(7)\n",
      "memory usage: 3.5+ MB\n"
     ]
    }
   ],
   "source": [
    "df.info()"
   ]
  },
  {
   "cell_type": "markdown",
   "metadata": {
    "id": "TaQ2Iwbr_Zct"
   },
   "source": [
    "Tabel ini berisi tujuh kolom. Semuanya menyimpan tipe data yang sama, yaitu: `objek`.\n",
    "\n",
    "Berdasarkan dokumentasi:\n",
    "- `'userID'` — pengenal pengguna\n",
    "- `'Track'` — judul trek\n",
    "- `'artist'` — nama artis\n",
    "- `'genre'` \n",
    "- `'City'` — kota tempat pengguna berada\n",
    "- `'time'` — lama waktu lagu tersebut dimainkan\n",
    "- `'Day'` — nama hari\n",
    "\n",
    "Kita dapat melihat tiga masalah dengan gaya penulisan nama kolom:\n",
    "1. Beberapa nama huruf besar, beberapa huruf kecil.\n",
    "2. Ada penggunaan spasi pada beberapa nama.\n",
    "3. Penulisan nama kolom belum mengikuti ketentuan snake_case.\n",
    "\n",
    "Jumlah nilai kolom berbeda. Ini berarti data mengandung nilai yang hilang.\n"
   ]
  },
  {
   "cell_type": "markdown",
   "metadata": {
    "id": "MCB6-dXG_Zct"
   },
   "source": [
    "- Kesimpulan <a id='data_review_conclusions'></a> \n",
    "\n",
    "Setiap baris dalam tabel menyimpan data pada lagu yang dimainkan. Beberapa kolom menggambarkan lagu itu sendiri: judul, artis, dan genre. Sisanya menyampaikan informasi tentang pengguna: kota asal mereka, waktu mereka memutar lagu.\n",
    "\n",
    "Jelas bahwa data tersebut cukup untuk menguji hipotesis. Namun, ada nilai-nilai yang hilang."
   ]
  },
  {
   "cell_type": "markdown",
   "metadata": {
    "id": "SjYF6Ub9_Zct"
   },
   "source": [
    "## Data Cleansing <a id='data_preprocessing'></a>"
   ]
  },
  {
   "cell_type": "code",
   "execution_count": 5,
   "metadata": {
    "id": "oKOTdF_Q_Zct",
    "scrolled": true
   },
   "outputs": [
    {
     "data": {
      "text/plain": [
       "Index(['  userID', 'Track', 'artist', 'genre', '  City  ', 'time', 'Day'], dtype='object')"
      ]
     },
     "execution_count": 5,
     "metadata": {},
     "output_type": "execute_result"
    }
   ],
   "source": [
    "# daftar nama kolom di tabel df\n",
    "df.columns"
   ]
  },
  {
   "cell_type": "markdown",
   "metadata": {
    "id": "zj5534cv_Zct"
   },
   "source": [
    "Ubah nama kolom sesuai dengan aturan gaya penulisan yang baik:\n",
    "* Jika nama memiliki beberapa kata, gunakan snake_case\n",
    "* Semua karakter harus menggunakan huruf kecil\n",
    "* Hapus spasi"
   ]
  },
  {
   "cell_type": "code",
   "execution_count": 6,
   "metadata": {
    "id": "ISlFqs5y_Zct"
   },
   "outputs": [],
   "source": [
    "# mengganti nama kolom\n",
    "df = df.rename(\n",
    "    columns={\n",
    "        '  userID': 'user_id',\n",
    "        'Track': 'track',\n",
    "        '  City  ': 'city',\n",
    "        'Day':'day'\n",
    "    }\n",
    ")"
   ]
  },
  {
   "cell_type": "code",
   "execution_count": 7,
   "metadata": {
    "id": "d4NOAmTW_Zct",
    "scrolled": true
   },
   "outputs": [
    {
     "data": {
      "text/plain": [
       "Index(['user_id', 'track', 'artist', 'genre', 'city', 'time', 'day'], dtype='object')"
      ]
     },
     "execution_count": 7,
     "metadata": {},
     "output_type": "execute_result"
    }
   ],
   "source": [
    "# hasil pengecekan: daftar nama kolom\n",
    "df.columns"
   ]
  },
  {
   "cell_type": "code",
   "execution_count": 8,
   "metadata": {
    "id": "RskX29qr_Zct"
   },
   "outputs": [
    {
     "data": {
      "text/plain": [
       "user_id       0\n",
       "track      1343\n",
       "artist     7567\n",
       "genre      1198\n",
       "city          0\n",
       "time          0\n",
       "day           0\n",
       "dtype: int64"
      ]
     },
     "execution_count": 8,
     "metadata": {},
     "output_type": "execute_result"
    }
   ],
   "source": [
    "# menghitung nilai yang hilang\n",
    "df.isna().sum()"
   ]
  },
  {
   "cell_type": "markdown",
   "metadata": {
    "id": "qubhgnlO_Zct"
   },
   "source": [
    "Tidak semua nilai yang hilang berpengaruh terhadap penelitian. Misalnya, nilai yang hilang dalam `track` dan `artist` tidak begitu penting. Anda cukup menggantinya dengan tanda yang jelas.\n",
    "\n",
    "Namun nilai yang hilang dalam `'genre'` dapat memengaruhi perbandingan preferensi musik di Springfield dan Shelbyville. Dalam kehidupan nyata, ini akan berguna untuk mempelajari alasan mengapa data tersebut hilang dan mencoba memperbaikinya. Tetapi kita tidak memiliki kesempatan itu dalam proyek ini. Jadi Anda harus:\n",
    "* Isi nilai yang hilang ini dengan sebuah tanda\n",
    "* Evaluasi seberapa besar nilai yang hilang dapat memengaruhi perhitungan Anda"
   ]
  },
  {
   "cell_type": "markdown",
   "metadata": {
    "id": "fSv2laPA_Zct"
   },
   "source": [
    "Ganti nilai yang hilang pada `'track'`, `'artist'`, dan `'genre'` dengan string `'unknown'`. Untuk melakukannya, buat list `columns_to_replace`, lakukan *loop* dengan `for`, dan ganti nilai yang hilang di setiap kolom:"
   ]
  },
  {
   "cell_type": "code",
   "execution_count": 9,
   "metadata": {
    "id": "KplB5qWs_Zct"
   },
   "outputs": [],
   "source": [
    "# loop nama kolom dan ganti nilai yang hilang dengan 'unknown'\n",
    "columns_to_replace = ['track','artist','genre']\n",
    "for columns in columns_to_replace:\n",
    "    df[columns_to_replace] = df[columns_to_replace].fillna('unknown')"
   ]
  },
  {
   "cell_type": "code",
   "execution_count": 10,
   "metadata": {
    "id": "Tq4nYRX4_Zct",
    "scrolled": true
   },
   "outputs": [
    {
     "data": {
      "text/plain": [
       "user_id    0\n",
       "track      0\n",
       "artist     0\n",
       "genre      0\n",
       "city       0\n",
       "time       0\n",
       "day        0\n",
       "dtype: int64"
      ]
     },
     "execution_count": 10,
     "metadata": {},
     "output_type": "execute_result"
    }
   ],
   "source": [
    "# menghitung nilai yang hilang\n",
    "df.isna().sum()"
   ]
  },
  {
   "cell_type": "code",
   "execution_count": 11,
   "metadata": {
    "id": "36eES_S0_Zct"
   },
   "outputs": [
    {
     "data": {
      "text/plain": [
       "3826"
      ]
     },
     "execution_count": 11,
     "metadata": {},
     "output_type": "execute_result"
    }
   ],
   "source": [
    "# menghitung duplikat yang jelas\n",
    "df.duplicated().sum()"
   ]
  },
  {
   "cell_type": "code",
   "execution_count": 12,
   "metadata": {
    "id": "exFHq6tt_Zct"
   },
   "outputs": [],
   "source": [
    "# menghapus duplikat yang jelas\n",
    "df = df.drop_duplicates().reset_index(drop=True)"
   ]
  },
  {
   "cell_type": "code",
   "execution_count": 13,
   "metadata": {},
   "outputs": [
    {
     "data": {
      "text/html": [
       "<div>\n",
       "<style scoped>\n",
       "    .dataframe tbody tr th:only-of-type {\n",
       "        vertical-align: middle;\n",
       "    }\n",
       "\n",
       "    .dataframe tbody tr th {\n",
       "        vertical-align: top;\n",
       "    }\n",
       "\n",
       "    .dataframe thead th {\n",
       "        text-align: right;\n",
       "    }\n",
       "</style>\n",
       "<table border=\"1\" class=\"dataframe\">\n",
       "  <thead>\n",
       "    <tr style=\"text-align: right;\">\n",
       "      <th></th>\n",
       "      <th>user_id</th>\n",
       "      <th>track</th>\n",
       "      <th>artist</th>\n",
       "      <th>genre</th>\n",
       "      <th>city</th>\n",
       "      <th>time</th>\n",
       "      <th>day</th>\n",
       "    </tr>\n",
       "  </thead>\n",
       "  <tbody>\n",
       "    <tr>\n",
       "      <th>0</th>\n",
       "      <td>FFB692EC</td>\n",
       "      <td>Kamigata To Boots</td>\n",
       "      <td>The Mass Missile</td>\n",
       "      <td>rock</td>\n",
       "      <td>Shelbyville</td>\n",
       "      <td>20:28:33</td>\n",
       "      <td>Wednesday</td>\n",
       "    </tr>\n",
       "    <tr>\n",
       "      <th>1</th>\n",
       "      <td>55204538</td>\n",
       "      <td>Delayed Because of Accident</td>\n",
       "      <td>Andreas Rönnberg</td>\n",
       "      <td>rock</td>\n",
       "      <td>Springfield</td>\n",
       "      <td>14:07:09</td>\n",
       "      <td>Friday</td>\n",
       "    </tr>\n",
       "    <tr>\n",
       "      <th>2</th>\n",
       "      <td>20EC38</td>\n",
       "      <td>Funiculì funiculà</td>\n",
       "      <td>Mario Lanza</td>\n",
       "      <td>pop</td>\n",
       "      <td>Shelbyville</td>\n",
       "      <td>20:58:07</td>\n",
       "      <td>Wednesday</td>\n",
       "    </tr>\n",
       "    <tr>\n",
       "      <th>3</th>\n",
       "      <td>A3DD03C9</td>\n",
       "      <td>Dragons in the Sunset</td>\n",
       "      <td>Fire + Ice</td>\n",
       "      <td>folk</td>\n",
       "      <td>Shelbyville</td>\n",
       "      <td>08:37:09</td>\n",
       "      <td>Monday</td>\n",
       "    </tr>\n",
       "    <tr>\n",
       "      <th>4</th>\n",
       "      <td>E2DC1FAE</td>\n",
       "      <td>Soul People</td>\n",
       "      <td>Space Echo</td>\n",
       "      <td>dance</td>\n",
       "      <td>Springfield</td>\n",
       "      <td>08:34:34</td>\n",
       "      <td>Monday</td>\n",
       "    </tr>\n",
       "  </tbody>\n",
       "</table>\n",
       "</div>"
      ],
      "text/plain": [
       "    user_id                        track            artist  genre  \\\n",
       "0  FFB692EC            Kamigata To Boots  The Mass Missile   rock   \n",
       "1  55204538  Delayed Because of Accident  Andreas Rönnberg   rock   \n",
       "2    20EC38            Funiculì funiculà       Mario Lanza    pop   \n",
       "3  A3DD03C9        Dragons in the Sunset        Fire + Ice   folk   \n",
       "4  E2DC1FAE                  Soul People        Space Echo  dance   \n",
       "\n",
       "          city      time        day  \n",
       "0  Shelbyville  20:28:33  Wednesday  \n",
       "1  Springfield  14:07:09     Friday  \n",
       "2  Shelbyville  20:58:07  Wednesday  \n",
       "3  Shelbyville  08:37:09     Monday  \n",
       "4  Springfield  08:34:34     Monday  "
      ]
     },
     "execution_count": 13,
     "metadata": {},
     "output_type": "execute_result"
    }
   ],
   "source": [
    "df.head()"
   ]
  },
  {
   "cell_type": "code",
   "execution_count": 14,
   "metadata": {
    "id": "-8PuNWQ0_Zct"
   },
   "outputs": [
    {
     "name": "stdout",
     "output_type": "stream",
     "text": [
      "0\n"
     ]
    }
   ],
   "source": [
    "# memeriksa duplikat\n",
    "print(df.duplicated().sum())"
   ]
  },
  {
   "cell_type": "markdown",
   "metadata": {
    "id": "eSjWwsOh_Zct"
   },
   "source": [
    "Tampilkan daftar nama genre yang unik, urutkan berdasarkan abjad. Untuk melakukannya:\n",
    "* Ambil kolom DataFrame yang dimaksud\n",
    "* Terapkan metode pengurutan untuk itu\n",
    "* Untuk kolom yang diurutkan, panggil metode yang akan menghasilkan semua nilai kolom yang unik"
   ]
  },
  {
   "cell_type": "code",
   "execution_count": 15,
   "metadata": {
    "id": "JIUcqzZN_Zct",
    "scrolled": true
   },
   "outputs": [
    {
     "data": {
      "text/plain": [
       "array(['acid', 'acoustic', 'action', 'adult', 'africa', 'afrikaans',\n",
       "       'alternative', 'ambient', 'americana', 'animated', 'anime',\n",
       "       'arabesk', 'arabic', 'arena', 'argentinetango', 'art', 'audiobook',\n",
       "       'avantgarde', 'axé', 'baile', 'balkan', 'beats', 'bigroom',\n",
       "       'black', 'bluegrass', 'blues', 'bollywood', 'bossa', 'brazilian',\n",
       "       'breakbeat', 'breaks', 'broadway', 'cantautori', 'cantopop',\n",
       "       'canzone', 'caribbean', 'caucasian', 'celtic', 'chamber',\n",
       "       'children', 'chill', 'chinese', 'choral', 'christian', 'christmas',\n",
       "       'classical', 'classicmetal', 'club', 'colombian', 'comedy',\n",
       "       'conjazz', 'contemporary', 'country', 'cuban', 'dance',\n",
       "       'dancehall', 'dancepop', 'dark', 'death', 'deep', 'deutschrock',\n",
       "       'deutschspr', 'dirty', 'disco', 'dnb', 'documentary', 'downbeat',\n",
       "       'downtempo', 'drum', 'dub', 'dubstep', 'eastern', 'easy',\n",
       "       'electronic', 'electropop', 'emo', 'entehno', 'epicmetal',\n",
       "       'estrada', 'ethnic', 'eurofolk', 'european', 'experimental',\n",
       "       'extrememetal', 'fado', 'film', 'fitness', 'flamenco', 'folk',\n",
       "       'folklore', 'folkmetal', 'folkrock', 'folktronica', 'forró',\n",
       "       'frankreich', 'französisch', 'french', 'funk', 'future', 'gangsta',\n",
       "       'garage', 'german', 'ghazal', 'gitarre', 'glitch', 'gospel',\n",
       "       'gothic', 'grime', 'grunge', 'gypsy', 'handsup', \"hard'n'heavy\",\n",
       "       'hardcore', 'hardstyle', 'hardtechno', 'hip', 'hip-hop', 'hiphop',\n",
       "       'historisch', 'holiday', 'hop', 'horror', 'house', 'idm',\n",
       "       'independent', 'indian', 'indie', 'indipop', 'industrial',\n",
       "       'inspirational', 'instrumental', 'international', 'irish', 'jam',\n",
       "       'japanese', 'jazz', 'jewish', 'jpop', 'jungle', 'k-pop',\n",
       "       'karadeniz', 'karaoke', 'kayokyoku', 'korean', 'laiko', 'latin',\n",
       "       'latino', 'leftfield', 'local', 'lounge', 'loungeelectronic',\n",
       "       'lovers', 'malaysian', 'mandopop', 'marschmusik', 'meditative',\n",
       "       'mediterranean', 'melodic', 'metal', 'metalcore', 'mexican',\n",
       "       'middle', 'minimal', 'miscellaneous', 'modern', 'mood', 'mpb',\n",
       "       'muslim', 'native', 'neoklassik', 'neue', 'new', 'newage',\n",
       "       'newwave', 'nu', 'nujazz', 'numetal', 'oceania', 'old', 'opera',\n",
       "       'orchestral', 'other', 'piano', 'pop', 'popelectronic',\n",
       "       'popeurodance', 'post', 'posthardcore', 'postrock', 'power',\n",
       "       'progmetal', 'progressive', 'psychedelic', 'punjabi', 'punk',\n",
       "       'quebecois', 'ragga', 'ram', 'rancheras', 'rap', 'rave', 'reggae',\n",
       "       'reggaeton', 'regional', 'relax', 'religious', 'retro', 'rhythm',\n",
       "       'rnb', 'rnr', 'rock', 'rockabilly', 'romance', 'roots', 'ruspop',\n",
       "       'rusrap', 'rusrock', 'salsa', 'samba', 'schlager', 'self',\n",
       "       'sertanejo', 'shoegazing', 'showtunes', 'singer', 'ska', 'slow',\n",
       "       'smooth', 'soul', 'soulful', 'sound', 'soundtrack', 'southern',\n",
       "       'specialty', 'speech', 'spiritual', 'sport', 'stonerrock', 'surf',\n",
       "       'swing', 'synthpop', 'sängerportrait', 'tango', 'tanzorchester',\n",
       "       'taraftar', 'tech', 'techno', 'thrash', 'top', 'traditional',\n",
       "       'tradjazz', 'trance', 'tribal', 'trip', 'triphop', 'tropical',\n",
       "       'türk', 'türkçe', 'unknown', 'urban', 'uzbek', 'variété', 'vi',\n",
       "       'videogame', 'vocal', 'western', 'world', 'worldbeat', 'ïîï'],\n",
       "      dtype=object)"
      ]
     },
     "execution_count": 15,
     "metadata": {},
     "output_type": "execute_result"
    }
   ],
   "source": [
    "# melihat nama genre yang unik\n",
    "df_sorted = df.sort_values(by='genre')\n",
    "df_sorted['genre'].unique()"
   ]
  },
  {
   "cell_type": "markdown",
   "metadata": {
    "id": "qej-Qmuo_Zct"
   },
   "source": [
    "Lihat melalui *list* untuk menemukan duplikat implisit dari genre `hiphop`. Ini bisa berupa nama yang ditulis secara salah atau nama alternatif dari genre yang sama.\n",
    "\n",
    "Anda akan melihat duplikat implisit berikut:\n",
    "* `hip`\n",
    "* `hop`\n",
    "* `hip-hop`\n",
    "\n",
    "Untuk menghapusnya, gunakan fungsi `replace_wrong_genres()` dengan dua parameter:\n",
    "* `wrong_genres=` — daftar duplikat\n",
    "* `correct_genre=` — string dengan nilai yang benar\n",
    "\n",
    "Fungsi harus mengoreksi nama dalam kolom `'genre'` dari tabel `df`, yaitu mengganti setiap nilai dari daftar `wrong_genres` dengan nilai dalam `correct_genre`."
   ]
  },
  {
   "cell_type": "code",
   "execution_count": 17,
   "metadata": {
    "id": "ErNDkmns_Zct"
   },
   "outputs": [],
   "source": [
    "# fungsi untuk mengganti duplikat implisit\n",
    "def replace_wrong_genres(wrong_genres, correct_genre):\n",
    "    for wrong_genre in wrong_genres: \n",
    "        df['genre'] = df['genre'].replace(wrong_genre, correct_genre)"
   ]
  },
  {
   "cell_type": "code",
   "execution_count": 18,
   "metadata": {
    "id": "YN5i2hpmSo09"
   },
   "outputs": [],
   "source": [
    "# menghapus duplikat implisit\n",
    "duplicates = ['hip', 'hop','hip-hop'] \n",
    "name = 'hiphop'\n",
    "replace_wrong_genres(duplicates, name)"
   ]
  },
  {
   "cell_type": "code",
   "execution_count": 19,
   "metadata": {
    "id": "wvixALnFG15m",
    "scrolled": true
   },
   "outputs": [
    {
     "data": {
      "text/plain": [
       "array(['acid', 'acoustic', 'action', 'adult', 'africa', 'afrikaans',\n",
       "       'alternative', 'ambient', 'americana', 'animated', 'anime',\n",
       "       'arabesk', 'arabic', 'arena', 'argentinetango', 'art', 'audiobook',\n",
       "       'avantgarde', 'axé', 'baile', 'balkan', 'beats', 'bigroom',\n",
       "       'black', 'bluegrass', 'blues', 'bollywood', 'bossa', 'brazilian',\n",
       "       'breakbeat', 'breaks', 'broadway', 'cantautori', 'cantopop',\n",
       "       'canzone', 'caribbean', 'caucasian', 'celtic', 'chamber',\n",
       "       'children', 'chill', 'chinese', 'choral', 'christian', 'christmas',\n",
       "       'classical', 'classicmetal', 'club', 'colombian', 'comedy',\n",
       "       'conjazz', 'contemporary', 'country', 'cuban', 'dance',\n",
       "       'dancehall', 'dancepop', 'dark', 'death', 'deep', 'deutschrock',\n",
       "       'deutschspr', 'dirty', 'disco', 'dnb', 'documentary', 'downbeat',\n",
       "       'downtempo', 'drum', 'dub', 'dubstep', 'eastern', 'easy',\n",
       "       'electronic', 'electropop', 'emo', 'entehno', 'epicmetal',\n",
       "       'estrada', 'ethnic', 'eurofolk', 'european', 'experimental',\n",
       "       'extrememetal', 'fado', 'film', 'fitness', 'flamenco', 'folk',\n",
       "       'folklore', 'folkmetal', 'folkrock', 'folktronica', 'forró',\n",
       "       'frankreich', 'französisch', 'french', 'funk', 'future', 'gangsta',\n",
       "       'garage', 'german', 'ghazal', 'gitarre', 'glitch', 'gospel',\n",
       "       'gothic', 'grime', 'grunge', 'gypsy', 'handsup', \"hard'n'heavy\",\n",
       "       'hardcore', 'hardstyle', 'hardtechno', 'hiphop', 'historisch',\n",
       "       'holiday', 'horror', 'house', 'idm', 'independent', 'indian',\n",
       "       'indie', 'indipop', 'industrial', 'inspirational', 'instrumental',\n",
       "       'international', 'irish', 'jam', 'japanese', 'jazz', 'jewish',\n",
       "       'jpop', 'jungle', 'k-pop', 'karadeniz', 'karaoke', 'kayokyoku',\n",
       "       'korean', 'laiko', 'latin', 'latino', 'leftfield', 'local',\n",
       "       'lounge', 'loungeelectronic', 'lovers', 'malaysian', 'mandopop',\n",
       "       'marschmusik', 'meditative', 'mediterranean', 'melodic', 'metal',\n",
       "       'metalcore', 'mexican', 'middle', 'minimal', 'miscellaneous',\n",
       "       'modern', 'mood', 'mpb', 'muslim', 'native', 'neoklassik', 'neue',\n",
       "       'new', 'newage', 'newwave', 'nu', 'nujazz', 'numetal', 'oceania',\n",
       "       'old', 'opera', 'orchestral', 'other', 'piano', 'pop',\n",
       "       'popelectronic', 'popeurodance', 'post', 'posthardcore',\n",
       "       'postrock', 'power', 'progmetal', 'progressive', 'psychedelic',\n",
       "       'punjabi', 'punk', 'quebecois', 'ragga', 'ram', 'rancheras', 'rap',\n",
       "       'rave', 'reggae', 'reggaeton', 'regional', 'relax', 'religious',\n",
       "       'retro', 'rhythm', 'rnb', 'rnr', 'rock', 'rockabilly', 'romance',\n",
       "       'roots', 'ruspop', 'rusrap', 'rusrock', 'salsa', 'samba',\n",
       "       'schlager', 'self', 'sertanejo', 'shoegazing', 'showtunes',\n",
       "       'singer', 'ska', 'slow', 'smooth', 'soul', 'soulful', 'sound',\n",
       "       'soundtrack', 'southern', 'specialty', 'speech', 'spiritual',\n",
       "       'sport', 'stonerrock', 'surf', 'swing', 'synthpop',\n",
       "       'sängerportrait', 'tango', 'tanzorchester', 'taraftar', 'tech',\n",
       "       'techno', 'thrash', 'top', 'traditional', 'tradjazz', 'trance',\n",
       "       'tribal', 'trip', 'triphop', 'tropical', 'türk', 'türkçe',\n",
       "       'unknown', 'urban', 'uzbek', 'variété', 'vi', 'videogame', 'vocal',\n",
       "       'western', 'world', 'worldbeat', 'ïîï'], dtype=object)"
      ]
     },
     "execution_count": 19,
     "metadata": {},
     "output_type": "execute_result"
    }
   ],
   "source": [
    "# memeriksa duplikat implisit\n",
    "df_sorted = df.sort_values(by='genre')\n",
    "df_sorted['genre'].unique()"
   ]
  },
  {
   "cell_type": "markdown",
   "metadata": {
    "id": "jz6a9-7HQUDd"
   },
   "source": [
    "Kesimpulan:\n",
    "Kita mendeteksi tiga masalah dengan data:\n",
    "\n",
    "- Gaya penulisan judul yang salah\n",
    "- Nilai-nilai yang hilang\n",
    "- Duplikat yang jelas dan implisit\n",
    "\n",
    "Judul telah dibersihkan untuk mempermudah pemrosesan tabel.\n",
    "\n",
    "Semua nilai yang hilang telah diganti dengan `'unknown'`. Tapi kita masih harus melihat apakah nilai yang hilang dalam `'genre'` akan memengaruhi perhitungan kita.\n",
    "\n",
    "Tidak adanya duplikat akan membuat hasil lebih tepat dan lebih mudah dipahami.\n",
    "\n"
   ]
  },
  {
   "cell_type": "markdown",
   "metadata": {
    "id": "WttZHXH0SqKk"
   },
   "source": [
    "## Hypotesis Testing <a id='hypotheses'></a>"
   ]
  },
  {
   "cell_type": "markdown",
   "metadata": {
    "id": "Im936VVi_Zcu"
   },
   "source": [
    "### Membandingkan Perilaku Pengguna di Dua Kota <a id='activity'></a>"
   ]
  },
  {
   "cell_type": "markdown",
   "metadata": {
    "id": "nwt_MuaL_Zcu"
   },
   "source": [
    "Menurut hipotesis pertama, pengguna dari Springfield dan Shelbyville memiliki perbedaan dalam mendengarkan musik. Pengujian ini menggunakan data pada hari: Senin, Rabu, dan Jumat.\n",
    "\n",
    "* Pisahkan pengguna ke dalam kelompok berdasarkan kota.\n",
    "* Bandingkan berapa banyak lagu yang dimainkan setiap kelompok pada hari Senin, Rabu, dan Jumat."
   ]
  },
  {
   "cell_type": "code",
   "execution_count": 20,
   "metadata": {
    "id": "0_Qs96oh_Zcu",
    "scrolled": true
   },
   "outputs": [
    {
     "data": {
      "text/plain": [
       "city\n",
       "Shelbyville    18512\n",
       "Springfield    42741\n",
       "Name: track, dtype: int64"
      ]
     },
     "execution_count": 20,
     "metadata": {},
     "output_type": "execute_result"
    }
   ],
   "source": [
    "# Menghitung lagu yang diputar di setiap kota\n",
    "df.groupby('city')['track'].count() "
   ]
  },
  {
   "cell_type": "markdown",
   "metadata": {
    "id": "dzli3w8o_Zcu"
   },
   "source": [
    "Springfield memiliki lebih banyak lagu yang dimainkan daripada Shelbyville. Namun bukan berarti warga Springfield lebih sering mendengarkan musik. Kota ini lebih besar, dan memiliki lebih banyak pengguna."
   ]
  },
  {
   "cell_type": "code",
   "execution_count": 21,
   "metadata": {
    "id": "uZMKjiJz_Zcu"
   },
   "outputs": [
    {
     "data": {
      "text/plain": [
       "day\n",
       "Friday       21840\n",
       "Monday       21354\n",
       "Wednesday    18059\n",
       "Name: track, dtype: int64"
      ]
     },
     "execution_count": 21,
     "metadata": {},
     "output_type": "execute_result"
    }
   ],
   "source": [
    "# Menghitung trek yang diputar pada masing-masing hari\n",
    "df.groupby('day')['track'].count()"
   ]
  },
  {
   "cell_type": "markdown",
   "metadata": {
    "id": "cC2tNrlL_Zcu"
   },
   "source": [
    "Rabu adalah hari paling tenang secara keseluruhan. Tetapi jika kita mempertimbangkan kedua kota secara terpisah, kita mungkin akan memiliki kesimpulan yang berbeda."
   ]
  },
  {
   "cell_type": "code",
   "execution_count": 22,
   "metadata": {
    "id": "Nz3GdQB1_Zcu"
   },
   "outputs": [],
   "source": [
    "# <membuat fungsi number_tracks()>\n",
    "\n",
    "def number_tracks(day,city):\n",
    "    track_list = df.loc[(df['day']==day)&(df['city']==city)]\n",
    "    track_list_count = track_list['user_id'].count()\n",
    "    return track_list_count\n",
    "# Kita akan mendeklarasikan sebuah fungsi dengan dua parameter: day=, city=.\n",
    "# Biarkan variabel track_list menyimpan baris df di mana\n",
    "# nilai di kolom 'day' sama dengan parameter day= dan, pada saat yang sama,\n",
    "# nilai pada kolom 'city' sama dengan parameter city= (terapkan pemfilteran berurutan\n",
    "# dengan pengindeksan logis).\n",
    "# Biarkan variabel track_list_count menyimpan jumlah nilai kolom 'user_id' pada track_list\n",
    "# (temukan dengan metode count()).\n",
    "# Biarkan fungsi menghasilkan jumlah: nilai track_list_count.\n",
    "\n",
    "# Fungsi menghitung lagu yang diputar untuk kota dan hari tertentu.\n",
    "# Pertama-tama ini akan mengambil baris dengan hari yang diinginkan dari tabel,\n",
    "# kemudian memfilter baris hasilnya dengan kota yang dimaksud,\n",
    "# kemudian temukan jumlah nilai 'user_id' pada tabel yang difilter,\n",
    "# kemudian menghasilkan jumlah tersebut.\n",
    "# Untuk melihat apa yang dihasilkan, kemas pemanggilan fungsi pada print()."
   ]
  },
  {
   "cell_type": "code",
   "execution_count": 23,
   "metadata": {
    "id": "rJcRATNQ_Zcu"
   },
   "outputs": [
    {
     "data": {
      "text/plain": [
       "15740"
      ]
     },
     "execution_count": 23,
     "metadata": {},
     "output_type": "execute_result"
    }
   ],
   "source": [
    "# jumlah lagu yang diputar di Springfield pada hari Senin\n",
    "number_tracks('Monday','Springfield')"
   ]
  },
  {
   "cell_type": "code",
   "execution_count": 24,
   "metadata": {
    "id": "hq_ncZ5T_Zcu"
   },
   "outputs": [
    {
     "data": {
      "text/plain": [
       "5614"
      ]
     },
     "execution_count": 24,
     "metadata": {},
     "output_type": "execute_result"
    }
   ],
   "source": [
    "# jumlah lagu yang diputar di Shelbyville pada hari Senin\n",
    "number_tracks('Monday','Shelbyville')"
   ]
  },
  {
   "cell_type": "code",
   "execution_count": 25,
   "metadata": {
    "id": "_NTy2VPU_Zcu"
   },
   "outputs": [
    {
     "data": {
      "text/plain": [
       "11056"
      ]
     },
     "execution_count": 25,
     "metadata": {},
     "output_type": "execute_result"
    }
   ],
   "source": [
    "#  jumlah lagu yang diputar di Springfield pada hari Rabu\n",
    "number_tracks('Wednesday','Springfield')"
   ]
  },
  {
   "cell_type": "code",
   "execution_count": 26,
   "metadata": {
    "id": "j2y3TAwo_Zcu"
   },
   "outputs": [
    {
     "data": {
      "text/plain": [
       "7003"
      ]
     },
     "execution_count": 26,
     "metadata": {},
     "output_type": "execute_result"
    }
   ],
   "source": [
    "#  jumlah lagu yang diputar di Shelbyville pada hari Rabu\n",
    "number_tracks('Wednesday','Shelbyville')"
   ]
  },
  {
   "cell_type": "code",
   "execution_count": 27,
   "metadata": {
    "id": "vYDw5u_K_Zcu"
   },
   "outputs": [
    {
     "data": {
      "text/plain": [
       "15945"
      ]
     },
     "execution_count": 27,
     "metadata": {},
     "output_type": "execute_result"
    }
   ],
   "source": [
    "# jumlah lagu yang diputar di Springfield pada hari Jumat\n",
    "number_tracks('Friday','Springfield')"
   ]
  },
  {
   "cell_type": "code",
   "execution_count": 28,
   "metadata": {
    "id": "8_yzFtW3_Zcu"
   },
   "outputs": [
    {
     "data": {
      "text/plain": [
       "5895"
      ]
     },
     "execution_count": 28,
     "metadata": {},
     "output_type": "execute_result"
    }
   ],
   "source": [
    "# jumlah lagu yang diputar di Shelbyville pada hari Jumat\n",
    "number_tracks('Friday','Shelbyville')"
   ]
  },
  {
   "cell_type": "code",
   "execution_count": 29,
   "metadata": {
    "id": "APAcLpOr_Zcu"
   },
   "outputs": [
    {
     "data": {
      "text/html": [
       "<div>\n",
       "<style scoped>\n",
       "    .dataframe tbody tr th:only-of-type {\n",
       "        vertical-align: middle;\n",
       "    }\n",
       "\n",
       "    .dataframe tbody tr th {\n",
       "        vertical-align: top;\n",
       "    }\n",
       "\n",
       "    .dataframe thead th {\n",
       "        text-align: right;\n",
       "    }\n",
       "</style>\n",
       "<table border=\"1\" class=\"dataframe\">\n",
       "  <thead>\n",
       "    <tr style=\"text-align: right;\">\n",
       "      <th></th>\n",
       "      <th>city</th>\n",
       "      <th>monday</th>\n",
       "      <th>wednesday</th>\n",
       "      <th>friday</th>\n",
       "    </tr>\n",
       "  </thead>\n",
       "  <tbody>\n",
       "    <tr>\n",
       "      <th>0</th>\n",
       "      <td>Springfield</td>\n",
       "      <td>15740</td>\n",
       "      <td>11056</td>\n",
       "      <td>15945</td>\n",
       "    </tr>\n",
       "    <tr>\n",
       "      <th>1</th>\n",
       "      <td>Shelbyville</td>\n",
       "      <td>5614</td>\n",
       "      <td>7003</td>\n",
       "      <td>5895</td>\n",
       "    </tr>\n",
       "  </tbody>\n",
       "</table>\n",
       "</div>"
      ],
      "text/plain": [
       "          city  monday  wednesday  friday\n",
       "0  Springfield   15740      11056   15945\n",
       "1  Shelbyville    5614       7003    5895"
      ]
     },
     "execution_count": 29,
     "metadata": {},
     "output_type": "execute_result"
    }
   ],
   "source": [
    "# tabel dengan hasil\n",
    "data = {'city':['Springfield','Shelbyville'],'monday':[15740,5614],'wednesday':[11056,7003],'friday':[15945,5895]}\n",
    "pd.DataFrame(data)\n"
   ]
  },
  {
   "cell_type": "markdown",
   "metadata": {
    "id": "-EgPIHYu_Zcu"
   },
   "source": [
    "**Kesimpulan**\n",
    "\n",
    "Data mengungkapkan perbedaan perilaku pengguna:\n",
    "\n",
    "- Pada Springfield, jumlah lagu yang diputar mencapai puncaknya pada hari Senin dan Jumat, sedangkan pada hari Rabu terjadi penurunan aktivitas.\n",
    "- Di Shelbyville, sebaliknya, pengguna lebih banyak mendengarkan musik pada hari Rabu.\n",
    "\n",
    "Aktivitas pengguna pada hari Senin dan Jumat lebih sedikit."
   ]
  },
  {
   "cell_type": "markdown",
   "metadata": {
    "id": "atZAxtq4_Zcu"
   },
   "source": [
    "### Hipotesis 2: Musik di Awal dan Akhir Minggu <a id='week'></a>"
   ]
  },
  {
   "cell_type": "markdown",
   "metadata": {
    "id": "eXrQqXFH_Zcu"
   },
   "source": [
    "Menurut hipotesis kedua, pada Senin pagi dan Jumat malam, warga Springfield mendengarkan genre yang berbeda dari yang dinikmati warga Shelbyville."
   ]
  },
  {
   "cell_type": "code",
   "execution_count": 30,
   "metadata": {
    "id": "qeaFfM_P_Zcu"
   },
   "outputs": [],
   "source": [
    "# mendapatkan tabel spr_general dari baris df,\n",
    "spr_general = df.loc[df['city']=='Springfield']\n",
    "# dimana nilai dari kolom 'city' adalah 'Springfield'\n"
   ]
  },
  {
   "cell_type": "code",
   "execution_count": 31,
   "metadata": {
    "id": "ORaVRKto_Zcu"
   },
   "outputs": [],
   "source": [
    "# mendapatkan shel_general dari baris df,\n",
    "# dimana nilai dari kolom 'city' adalah 'Shelbyville'\n",
    "shel_general = df.loc[df['city']=='Shelbyville']"
   ]
  },
  {
   "cell_type": "code",
   "execution_count": 32,
   "metadata": {
    "id": "laJT9BYl_Zcu"
   },
   "outputs": [],
   "source": [
    "\n",
    "def genre_weekday(df,day,time1,time2):\n",
    "    genre_df = df.loc[(df['day']==day)&(df['time']>time1)&(df['time']<time2)]\n",
    "    genre_df_grouped = genre_df.groupby('genre')['genre'].count()\n",
    "    genre_df_sorted = genre_df_grouped.sort_values(ascending=False)\n",
    "    return genre_df_sorted[:15]"
   ]
  },
  {
   "cell_type": "markdown",
   "metadata": {
    "id": "la2s2_PF_Zcu"
   },
   "source": [
    "Bandingkan hasil fungsi `genre_weekday()` untuk Springfield dan Shelbyville pada Senin pagi (dari pukul 07.00 hingga 11.00) dan pada Jumat malam (dari pukul 17:00 hingga 23:00):"
   ]
  },
  {
   "cell_type": "code",
   "execution_count": 33,
   "metadata": {
    "id": "yz7itPUQ_Zcu"
   },
   "outputs": [
    {
     "data": {
      "text/plain": [
       "genre\n",
       "pop            781\n",
       "dance          549\n",
       "electronic     480\n",
       "rock           474\n",
       "hiphop         286\n",
       "ruspop         186\n",
       "world          181\n",
       "rusrap         175\n",
       "alternative    164\n",
       "unknown        161\n",
       "classical      157\n",
       "metal          120\n",
       "jazz           100\n",
       "folk            97\n",
       "soundtrack      95\n",
       "Name: genre, dtype: int64"
      ]
     },
     "execution_count": 33,
     "metadata": {},
     "output_type": "execute_result"
    }
   ],
   "source": [
    "# memanggil fungsi untuk Senin pagi di Springfield (gunakan spr_general alih-alih tabel df)\n",
    "genre_weekday(spr_general,'Monday','07:00','11:00')"
   ]
  },
  {
   "cell_type": "code",
   "execution_count": 34,
   "metadata": {
    "id": "kwUcHPdy_Zcu"
   },
   "outputs": [
    {
     "data": {
      "text/plain": [
       "genre\n",
       "pop            218\n",
       "dance          182\n",
       "rock           162\n",
       "electronic     147\n",
       "hiphop          80\n",
       "ruspop          64\n",
       "alternative     58\n",
       "rusrap          55\n",
       "jazz            44\n",
       "classical       40\n",
       "world           36\n",
       "rap             32\n",
       "soundtrack      31\n",
       "rnb             27\n",
       "metal           27\n",
       "Name: genre, dtype: int64"
      ]
     },
     "execution_count": 34,
     "metadata": {},
     "output_type": "execute_result"
    }
   ],
   "source": [
    "# memanggil fungsi untuk Senin pagi di Shelbyville (gunakan shel_general alih-alih tabel df)\n",
    "genre_weekday(shel_general,'Monday','07:00','11:00')"
   ]
  },
  {
   "cell_type": "code",
   "execution_count": 35,
   "metadata": {
    "id": "EzXVRE1o_Zcu"
   },
   "outputs": [
    {
     "data": {
      "text/plain": [
       "genre\n",
       "pop            713\n",
       "rock           517\n",
       "dance          495\n",
       "electronic     482\n",
       "hiphop         273\n",
       "world          208\n",
       "ruspop         170\n",
       "classical      163\n",
       "alternative    163\n",
       "rusrap         142\n",
       "jazz           111\n",
       "unknown        110\n",
       "soundtrack     105\n",
       "rnb             90\n",
       "metal           88\n",
       "Name: genre, dtype: int64"
      ]
     },
     "execution_count": 35,
     "metadata": {},
     "output_type": "execute_result"
    }
   ],
   "source": [
    "# memanggil fungsi untuk Jumat malam di Springfield\n",
    "genre_weekday(spr_general,'Friday','17:00','23:00')"
   ]
  },
  {
   "cell_type": "code",
   "execution_count": 164,
   "metadata": {
    "id": "JZaEKu5v_Zcu",
    "scrolled": true
   },
   "outputs": [
    {
     "data": {
      "text/plain": [
       "genre\n",
       "pop            256\n",
       "rock           216\n",
       "electronic     216\n",
       "dance          210\n",
       "hiphop          97\n",
       "alternative     63\n",
       "jazz            61\n",
       "classical       60\n",
       "rusrap          59\n",
       "world           54\n",
       "unknown         47\n",
       "ruspop          47\n",
       "soundtrack      40\n",
       "metal           39\n",
       "rap             36\n",
       "Name: genre, dtype: int64"
      ]
     },
     "execution_count": 164,
     "metadata": {},
     "output_type": "execute_result"
    }
   ],
   "source": [
    "# memanggil fungsi untuk Jumat malam di Shelbyville\n",
    "genre_weekday(shel_general,'Friday','17:00','23:00')"
   ]
  },
  {
   "cell_type": "markdown",
   "metadata": {
    "id": "wrCe4MNX_Zcu"
   },
   "source": [
    "**Kesimpulan**\n",
    "\n",
    "Setelah membandingkan 15 genre teratas pada Senin pagi, kita dapat menarik kesimpulan berikut:\n",
    "\n",
    "1. Pengguna dari Springfield dan Shelbyville mendengarkan musik dengan genre yang sama. Lima genre teratas sama, hanya rock dan elektronik yang bertukar tempat.\n",
    "\n",
    "2. Di Springfield, jumlah nilai yang hilang ternyata sangat besar sehingga nilai `'unknown'` berada di urutan ke-10. Ini berarti bahwa nilai-nilai yang hilang memiliki jumlah data yang cukup besar, yang mungkin menjadi dasar untuk mempertanyakan ketepatan kesimpulan kita.\n",
    "\n",
    "Untuk Jumat malam, situasinya serupa. Genre individu agak bervariasi, tetapi secara keseluruhan, 15 besar genre untuk kedua kota sama.\n",
    "\n",
    "Dengan demikian, hipotesis kedua sebagian terbukti benar:\n",
    "* Pengguna mendengarkan musik yang sama di awal dan akhir minggu.\n",
    "* Tidak ada perbedaan yang mencolok antara Springfield dan Shelbyville. Pada kedua kota tersebut, pop adalah genre yang paling populer.\n",
    "\n",
    "Namun, jumlah nilai yang hilang membuat hasil ini dipertanyakan. Di Springfield, ada begitu banyak yang memengaruhi 15 teratas kita. Jika kita tidak mengabaikan nilai-nilai ini, hasilnya mungkin akan berbeda."
   ]
  },
  {
   "cell_type": "markdown",
   "metadata": {
    "id": "JolODAqr_Zcu"
   },
   "source": [
    "### Hipotesis 3: Preferensi Genre di Springfield dan Shelbyville <a id='genre'></a>\n",
    "\n",
    "Hipotesis: Shelbyville menyukai musik rap. Warga Springfield lebih menyukai pop."
   ]
  },
  {
   "cell_type": "code",
   "execution_count": 36,
   "metadata": {
    "id": "r19lIPke_Zcu"
   },
   "outputs": [],
   "source": [
    "# pada satu baris: kelompokkan tabel spr_general berdasarkan kolom 'genre',\n",
    "spr_general_grouped = spr_general.groupby('genre')['genre'].count()\n",
    "spr_genres = spr_general_grouped.sort_values(ascending=False)\n",
    "# hitung nilai 'genre' dengan count() dalam pengelompokan,\n",
    "# urutkan Series yang dihasilkan dalam urutan menurun, lalu simpan ke spr_genres"
   ]
  },
  {
   "cell_type": "markdown",
   "metadata": {
    "id": "6kMuomxTiIr8"
   },
   "source": [
    "Tampilkan 10 baris pertama dari `spr_genres`:"
   ]
  },
  {
   "cell_type": "code",
   "execution_count": 37,
   "metadata": {
    "id": "WhCSooF8_Zcv"
   },
   "outputs": [
    {
     "data": {
      "text/plain": [
       "genre\n",
       "pop            5892\n",
       "dance          4435\n",
       "rock           3965\n",
       "electronic     3786\n",
       "hiphop         2096\n",
       "classical      1616\n",
       "world          1432\n",
       "alternative    1379\n",
       "ruspop         1372\n",
       "rusrap         1161\n",
       "Name: genre, dtype: int64"
      ]
     },
     "execution_count": 37,
     "metadata": {},
     "output_type": "execute_result"
    }
   ],
   "source": [
    "# menampilkan 10 baris pertama dari spr_genres\n",
    "spr_genres[:10]"
   ]
  },
  {
   "cell_type": "code",
   "execution_count": 38,
   "metadata": {
    "id": "gluLIpE7_Zcv"
   },
   "outputs": [],
   "source": [
    "# pada satu baris: kelompokkan tabel shel_general menurut kolom 'genre',\n",
    "# hitung nilai 'genre' dalam pengelompokan menggunakan count(),\n",
    "# urutkan Series yang dihasilkan dalam urutan menurun dan simpan ke shel_genres\n",
    "shel_general_grouped = shel_general.groupby('genre')['genre'].count()\n",
    "shel_genres = shel_general_grouped.sort_values(ascending=False)"
   ]
  },
  {
   "cell_type": "markdown",
   "metadata": {
    "id": "5Doha_ODgyQ8"
   },
   "source": [
    "Tampilkan 10 baris pertama dari `shel_genres`:"
   ]
  },
  {
   "cell_type": "code",
   "execution_count": 39,
   "metadata": {
    "id": "uaGJHjVU_Zcv"
   },
   "outputs": [
    {
     "data": {
      "text/plain": [
       "genre\n",
       "pop            2431\n",
       "dance          1932\n",
       "rock           1879\n",
       "electronic     1736\n",
       "hiphop          960\n",
       "alternative     649\n",
       "classical       646\n",
       "rusrap          564\n",
       "ruspop          538\n",
       "world           515\n",
       "Name: genre, dtype: int64"
      ]
     },
     "execution_count": 39,
     "metadata": {},
     "output_type": "execute_result"
    }
   ],
   "source": [
    "# menampilkan 10 baris pertama dari shel_genres\n",
    "shel_genres[:10]"
   ]
  },
  {
   "cell_type": "markdown",
   "metadata": {
    "id": "RY51YJYu_Zcv"
   },
   "source": [
    "**Kesimpulan**"
   ]
  },
  {
   "cell_type": "markdown",
   "metadata": {
    "id": "nVhnJEm__Zcv"
   },
   "source": [
    "Hipotesis terbukti benar sebagian:\n",
    "* Musik pop adalah genre paling populer di Springfield, seperti yang diharapkan.\n",
    "* Namun, musik pop ternyata sama populernya baik di Springfield maupun di Shelbyville, dan musik rap tidak berada di 5 besar untuk kedua kota tersebut.\n"
   ]
  },
  {
   "cell_type": "markdown",
   "metadata": {
    "id": "ykKQ0N65_Zcv"
   },
   "source": [
    "# Findings <a id='end'></a>"
   ]
  },
  {
   "cell_type": "markdown",
   "metadata": {
    "id": "tjUwbHb3_Zcv"
   },
   "source": [
    "Kita telah menguji tiga hipotesis berikut:\n",
    "\n",
    "1. Aktivitas pengguna berbeda-beda tergantung pada hari dan kotanya.\n",
    "2. Pada senin pagi, penduduk Springfield dan Shelbyville mendengarkan genre yang berbeda. Hal ini juga ini juga berlaku untuk Jumat malam.\n",
    "3. Pendengar di Springfield dan Shelbyville memiliki preferensi yang berbeda. Baik Springfield maupun di Shelbyville, mereka lebih suka musik pop.\n",
    "\n",
    "Setelah menganalisis data, kita dapat menyimpulkan:\n",
    "\n",
    "1. Aktivitas pengguna di Springfield dan Shelbyville bergantung pada harinya, walaupun kotanya berbeda.\n",
    "\n",
    "Hipotesis pertama dapat diterima sepenuhnya.\n",
    "\n",
    "2. Preferensi musik tidak terlalu berbeda selama seminggu di Springfield dan Shelbyville. Kita dapat melihat perbedaan kecil dalam urutan pada hari Senin, tetapi:\n",
    "* Baik di Springfield maupun di Shelbyville, orang paling banyak mendengarkan musik pop.\n",
    "\n",
    "Jadi hipotesis ini tidak dapat kita terima. Kita juga harus ingat bahwa hasilnya bisa berbeda jika bukan karena nilai yang hilang.\n",
    "\n",
    "3. Ternyata preferensi musik pengguna dari Springfield dan Shelbyville sangat mirip.\n",
    "\n",
    "Hipotesis ketiga ditolak. Jika ada perbedaan preferensi, tidak dapat dilihat dari data ini."
   ]
  }
 ],
 "metadata": {
  "ExecuteTimeLog": [
   {
    "duration": 421,
    "start_time": "2022-07-28T08:29:43.887Z"
   },
   {
    "duration": 2,
    "start_time": "2022-07-28T08:29:46.787Z"
   },
   {
    "duration": 76,
    "start_time": "2022-07-28T08:29:54.317Z"
   },
   {
    "duration": 7,
    "start_time": "2022-07-28T08:30:07.068Z"
   },
   {
    "duration": 3,
    "start_time": "2022-07-28T08:30:14.604Z"
   },
   {
    "duration": 3,
    "start_time": "2022-07-28T08:30:16.964Z"
   },
   {
    "duration": 101,
    "start_time": "2022-07-28T08:31:27.225Z"
   },
   {
    "duration": 120,
    "start_time": "2022-07-28T08:32:00.060Z"
   },
   {
    "duration": 48,
    "start_time": "2022-07-29T09:04:47.695Z"
   },
   {
    "duration": 382,
    "start_time": "2022-07-29T09:04:54.642Z"
   },
   {
    "duration": 437,
    "start_time": "2022-07-29T09:04:58.157Z"
   },
   {
    "duration": 3,
    "start_time": "2022-07-29T09:05:03.165Z"
   },
   {
    "duration": 174,
    "start_time": "2022-07-29T09:05:06.085Z"
   },
   {
    "duration": 97,
    "start_time": "2022-07-29T09:07:10.496Z"
   },
   {
    "duration": 3,
    "start_time": "2022-07-29T09:07:32.724Z"
   },
   {
    "duration": 3,
    "start_time": "2022-07-29T09:07:35.746Z"
   },
   {
    "duration": 8,
    "start_time": "2022-07-29T09:07:44.605Z"
   },
   {
    "duration": 28,
    "start_time": "2022-07-29T09:10:17.740Z"
   },
   {
    "duration": 4,
    "start_time": "2022-07-29T09:33:18.412Z"
   },
   {
    "duration": 11,
    "start_time": "2022-07-29T09:36:53.124Z"
   },
   {
    "duration": 3,
    "start_time": "2022-07-29T09:37:03.137Z"
   },
   {
    "duration": 24,
    "start_time": "2022-07-29T09:40:34.228Z"
   },
   {
    "duration": 12,
    "start_time": "2022-07-29T09:45:01.498Z"
   },
   {
    "duration": 22,
    "start_time": "2022-07-29T09:45:19.430Z"
   },
   {
    "duration": 17,
    "start_time": "2022-07-29T09:45:51.525Z"
   },
   {
    "duration": 23,
    "start_time": "2022-07-29T09:45:54.645Z"
   },
   {
    "duration": 67,
    "start_time": "2022-07-29T09:46:59.896Z"
   },
   {
    "duration": 69,
    "start_time": "2022-07-29T09:47:51.595Z"
   },
   {
    "duration": 59,
    "start_time": "2022-07-29T09:48:14.687Z"
   },
   {
    "duration": 45,
    "start_time": "2022-08-01T04:22:30.920Z"
   },
   {
    "duration": 7,
    "start_time": "2022-08-01T04:23:30.017Z"
   },
   {
    "duration": 402,
    "start_time": "2022-08-01T04:30:19.309Z"
   },
   {
    "duration": 211,
    "start_time": "2022-08-01T04:30:22.071Z"
   },
   {
    "duration": 9,
    "start_time": "2022-08-01T04:30:24.709Z"
   },
   {
    "duration": 25,
    "start_time": "2022-08-01T04:30:27.789Z"
   },
   {
    "duration": 3,
    "start_time": "2022-08-01T04:30:31.860Z"
   },
   {
    "duration": 11,
    "start_time": "2022-08-01T04:30:39.410Z"
   },
   {
    "duration": 3,
    "start_time": "2022-08-01T04:30:41.788Z"
   },
   {
    "duration": 21,
    "start_time": "2022-08-01T04:30:45.375Z"
   },
   {
    "duration": 17,
    "start_time": "2022-08-01T04:30:49.324Z"
   },
   {
    "duration": 20,
    "start_time": "2022-08-01T04:30:52.054Z"
   },
   {
    "duration": 59,
    "start_time": "2022-08-01T04:30:58.104Z"
   },
   {
    "duration": 65,
    "start_time": "2022-08-01T04:31:00.531Z"
   },
   {
    "duration": 51,
    "start_time": "2022-08-01T04:31:03.580Z"
   },
   {
    "duration": 6,
    "start_time": "2022-08-01T04:31:06.791Z"
   },
   {
    "duration": 26,
    "start_time": "2022-08-01T04:38:44.417Z"
   },
   {
    "duration": 9,
    "start_time": "2022-08-01T04:38:51.570Z"
   },
   {
    "duration": 6,
    "start_time": "2022-08-01T04:39:06.879Z"
   },
   {
    "duration": 12,
    "start_time": "2022-08-01T04:42:10.441Z"
   },
   {
    "duration": 4,
    "start_time": "2022-08-01T04:42:52.555Z"
   },
   {
    "duration": 8,
    "start_time": "2022-08-01T04:43:07.627Z"
   },
   {
    "duration": 11,
    "start_time": "2022-08-01T04:43:11.526Z"
   },
   {
    "duration": 4,
    "start_time": "2022-08-01T04:45:52.747Z"
   },
   {
    "duration": 3,
    "start_time": "2022-08-01T04:46:32.265Z"
   },
   {
    "duration": 26,
    "start_time": "2022-08-01T04:47:26.713Z"
   },
   {
    "duration": 27,
    "start_time": "2022-08-01T04:47:44.123Z"
   },
   {
    "duration": 125,
    "start_time": "2022-08-01T05:00:47.309Z"
   },
   {
    "duration": 4,
    "start_time": "2022-08-01T05:06:21.880Z"
   },
   {
    "duration": 3,
    "start_time": "2022-08-01T05:06:28.193Z"
   },
   {
    "duration": 3,
    "start_time": "2022-08-01T05:07:05.943Z"
   },
   {
    "duration": 9,
    "start_time": "2022-08-01T05:07:10.834Z"
   },
   {
    "duration": 109,
    "start_time": "2022-08-01T05:08:03.636Z"
   },
   {
    "duration": 87,
    "start_time": "2022-08-01T05:08:14.208Z"
   },
   {
    "duration": 88,
    "start_time": "2022-08-01T06:33:30.955Z"
   },
   {
    "duration": 115,
    "start_time": "2022-08-01T06:34:23.353Z"
   },
   {
    "duration": 135,
    "start_time": "2022-08-01T06:34:43.007Z"
   },
   {
    "duration": 138,
    "start_time": "2022-08-01T06:38:05.188Z"
   },
   {
    "duration": 94,
    "start_time": "2022-08-01T06:38:46.190Z"
   },
   {
    "duration": 109,
    "start_time": "2022-08-01T06:39:04.163Z"
   },
   {
    "duration": 137,
    "start_time": "2022-08-01T06:39:36.057Z"
   },
   {
    "duration": 86,
    "start_time": "2022-08-01T06:39:55.050Z"
   },
   {
    "duration": 83,
    "start_time": "2022-08-01T06:40:00.391Z"
   },
   {
    "duration": 414,
    "start_time": "2022-08-02T09:08:33.669Z"
   },
   {
    "duration": 571,
    "start_time": "2022-08-02T09:08:35.668Z"
   },
   {
    "duration": 15,
    "start_time": "2022-08-02T09:08:37.529Z"
   },
   {
    "duration": 38,
    "start_time": "2022-08-02T09:08:41.154Z"
   },
   {
    "duration": 3,
    "start_time": "2022-08-02T09:08:45.790Z"
   },
   {
    "duration": 27,
    "start_time": "2022-08-02T09:08:55.205Z"
   },
   {
    "duration": 46,
    "start_time": "2022-08-02T09:09:06.004Z"
   },
   {
    "duration": 31,
    "start_time": "2022-08-02T09:09:12.039Z"
   },
   {
    "duration": 25,
    "start_time": "2022-08-02T09:09:23.657Z"
   },
   {
    "duration": 82,
    "start_time": "2022-08-02T09:09:26.335Z"
   },
   {
    "duration": 102,
    "start_time": "2022-08-02T09:09:29.087Z"
   },
   {
    "duration": 75,
    "start_time": "2022-08-02T09:09:31.064Z"
   },
   {
    "duration": 10,
    "start_time": "2022-08-02T09:09:35.034Z"
   },
   {
    "duration": 7,
    "start_time": "2022-08-02T09:09:40.928Z"
   },
   {
    "duration": 10,
    "start_time": "2022-08-02T09:09:43.277Z"
   },
   {
    "duration": 8,
    "start_time": "2022-08-02T09:09:45.582Z"
   },
   {
    "duration": 33,
    "start_time": "2022-08-02T09:09:51.260Z"
   },
   {
    "duration": 33,
    "start_time": "2022-08-02T09:09:54.175Z"
   },
   {
    "duration": 51,
    "start_time": "2022-08-02T09:14:48.748Z"
   },
   {
    "duration": 24,
    "start_time": "2022-08-02T09:14:56.065Z"
   },
   {
    "duration": 27,
    "start_time": "2022-08-02T09:15:30.656Z"
   },
   {
    "duration": 3,
    "start_time": "2022-08-02T09:16:11.954Z"
   },
   {
    "duration": 233,
    "start_time": "2022-08-02T09:16:13.775Z"
   },
   {
    "duration": 14,
    "start_time": "2022-08-02T09:16:15.947Z"
   },
   {
    "duration": 32,
    "start_time": "2022-08-02T09:16:19.246Z"
   },
   {
    "duration": 3,
    "start_time": "2022-08-02T09:16:23.552Z"
   },
   {
    "duration": 7,
    "start_time": "2022-08-02T09:16:28.994Z"
   },
   {
    "duration": 5,
    "start_time": "2022-08-02T09:16:31.739Z"
   },
   {
    "duration": 27,
    "start_time": "2022-08-02T09:16:35.661Z"
   },
   {
    "duration": 80,
    "start_time": "2022-08-02T09:16:39.059Z"
   },
   {
    "duration": 31,
    "start_time": "2022-08-02T09:16:41.546Z"
   },
   {
    "duration": 79,
    "start_time": "2022-08-02T09:16:53.093Z"
   },
   {
    "duration": 116,
    "start_time": "2022-08-02T09:16:56.349Z"
   },
   {
    "duration": 63,
    "start_time": "2022-08-02T09:16:59.145Z"
   },
   {
    "duration": 11,
    "start_time": "2022-08-02T09:17:03.849Z"
   },
   {
    "duration": 4,
    "start_time": "2022-08-02T09:17:09.158Z"
   },
   {
    "duration": 10,
    "start_time": "2022-08-02T09:17:17.399Z"
   },
   {
    "duration": 37,
    "start_time": "2022-08-02T09:17:28.346Z"
   },
   {
    "duration": 40,
    "start_time": "2022-08-02T09:17:32.068Z"
   },
   {
    "duration": 164,
    "start_time": "2022-08-02T09:23:07.640Z"
   },
   {
    "duration": 6,
    "start_time": "2022-08-02T09:23:32.045Z"
   },
   {
    "duration": 5,
    "start_time": "2022-08-02T09:24:11.333Z"
   },
   {
    "duration": 76,
    "start_time": "2022-08-02T09:27:54.946Z"
   },
   {
    "duration": 7,
    "start_time": "2022-08-02T09:28:06.738Z"
   },
   {
    "duration": 10,
    "start_time": "2022-08-02T09:28:38.486Z"
   },
   {
    "duration": 4,
    "start_time": "2022-08-02T09:29:05.135Z"
   },
   {
    "duration": 11,
    "start_time": "2022-08-02T09:29:08.746Z"
   },
   {
    "duration": 5,
    "start_time": "2022-08-02T09:29:51.239Z"
   },
   {
    "duration": 11,
    "start_time": "2022-08-02T09:29:55.764Z"
   },
   {
    "duration": 4,
    "start_time": "2022-08-02T09:30:08.036Z"
   },
   {
    "duration": 10,
    "start_time": "2022-08-02T09:30:10.738Z"
   },
   {
    "duration": 18,
    "start_time": "2022-08-02T09:31:03.901Z"
   },
   {
    "duration": 164,
    "start_time": "2022-08-02T09:40:03.057Z"
   },
   {
    "duration": 121,
    "start_time": "2022-08-02T09:40:16.175Z"
   },
   {
    "duration": 9,
    "start_time": "2022-08-02T09:40:56.962Z"
   },
   {
    "duration": 10,
    "start_time": "2022-08-02T09:41:05.634Z"
   },
   {
    "duration": 24,
    "start_time": "2022-08-02T09:41:30.602Z"
   },
   {
    "duration": 9,
    "start_time": "2022-08-02T09:41:43.387Z"
   },
   {
    "duration": 39,
    "start_time": "2022-08-02T09:46:45.288Z"
   },
   {
    "duration": 19,
    "start_time": "2022-08-02T09:52:47.835Z"
   },
   {
    "duration": 12,
    "start_time": "2022-08-02T09:56:45.798Z"
   },
   {
    "duration": 122,
    "start_time": "2022-08-02T09:57:00.184Z"
   },
   {
    "duration": 13,
    "start_time": "2022-08-02T09:57:09.773Z"
   },
   {
    "duration": 1981,
    "start_time": "2022-08-02T09:57:17.494Z"
   },
   {
    "duration": 13,
    "start_time": "2022-08-02T09:57:23.669Z"
   },
   {
    "duration": 22,
    "start_time": "2022-08-02T09:57:32.638Z"
   },
   {
    "duration": 24,
    "start_time": "2022-08-02T10:00:48.964Z"
   },
   {
    "duration": 26,
    "start_time": "2022-08-02T10:01:43.041Z"
   },
   {
    "duration": 21,
    "start_time": "2022-08-02T10:01:50.309Z"
   },
   {
    "duration": 32,
    "start_time": "2022-08-02T10:02:54.433Z"
   },
   {
    "duration": 28,
    "start_time": "2022-08-02T10:03:21.842Z"
   },
   {
    "duration": 22,
    "start_time": "2022-08-02T10:03:34.889Z"
   },
   {
    "duration": 31,
    "start_time": "2022-08-02T10:05:03.611Z"
   },
   {
    "duration": 23,
    "start_time": "2022-08-02T10:05:31.329Z"
   },
   {
    "duration": 20,
    "start_time": "2022-08-02T10:09:54.872Z"
   },
   {
    "duration": 19,
    "start_time": "2022-08-02T10:10:23.853Z"
   },
   {
    "duration": 33,
    "start_time": "2022-08-02T10:10:33.099Z"
   },
   {
    "duration": 24,
    "start_time": "2022-08-02T10:10:46.502Z"
   },
   {
    "duration": 21,
    "start_time": "2022-08-02T10:10:53.271Z"
   },
   {
    "duration": 29,
    "start_time": "2022-08-02T10:11:01.282Z"
   },
   {
    "duration": 24,
    "start_time": "2022-08-02T10:12:07.341Z"
   },
   {
    "duration": 23,
    "start_time": "2022-08-02T10:12:17.641Z"
   },
   {
    "duration": 20,
    "start_time": "2022-08-02T10:12:37.278Z"
   },
   {
    "duration": 31,
    "start_time": "2022-08-02T10:12:42.903Z"
   },
   {
    "duration": 24,
    "start_time": "2022-08-02T10:12:49.862Z"
   },
   {
    "duration": 25,
    "start_time": "2022-08-02T10:12:59.247Z"
   },
   {
    "duration": 4,
    "start_time": "2022-08-02T10:25:52.605Z"
   },
   {
    "duration": 14,
    "start_time": "2022-08-02T10:26:47.388Z"
   },
   {
    "duration": 21,
    "start_time": "2022-08-02T10:27:09.951Z"
   },
   {
    "duration": 21,
    "start_time": "2022-08-02T10:27:42.787Z"
   },
   {
    "duration": 12,
    "start_time": "2022-08-02T10:29:04.168Z"
   },
   {
    "duration": 13,
    "start_time": "2022-08-02T10:29:52.674Z"
   },
   {
    "duration": 25,
    "start_time": "2022-08-02T10:30:13.282Z"
   },
   {
    "duration": 28,
    "start_time": "2022-08-02T10:30:32.005Z"
   },
   {
    "duration": 6,
    "start_time": "2022-08-02T10:32:01.966Z"
   },
   {
    "duration": 4,
    "start_time": "2022-08-02T10:32:04.261Z"
   },
   {
    "duration": 22,
    "start_time": "2022-08-02T10:32:07.049Z"
   },
   {
    "duration": 23,
    "start_time": "2022-08-02T10:32:20.248Z"
   },
   {
    "duration": 18,
    "start_time": "2022-08-02T10:32:37.845Z"
   },
   {
    "duration": 16,
    "start_time": "2022-08-02T10:33:03.248Z"
   },
   {
    "duration": 26,
    "start_time": "2022-08-02T10:33:40.368Z"
   },
   {
    "duration": 16,
    "start_time": "2022-08-02T10:33:56.845Z"
   },
   {
    "duration": 10,
    "start_time": "2022-08-02T10:45:18.184Z"
   },
   {
    "duration": 431,
    "start_time": "2022-08-03T07:11:35.517Z"
   },
   {
    "duration": 821,
    "start_time": "2022-08-03T07:11:38.525Z"
   },
   {
    "duration": 8,
    "start_time": "2022-08-03T07:11:40.538Z"
   },
   {
    "duration": 27,
    "start_time": "2022-08-03T07:11:43.568Z"
   },
   {
    "duration": 3,
    "start_time": "2022-08-03T07:11:48.030Z"
   },
   {
    "duration": 10,
    "start_time": "2022-08-03T07:11:50.492Z"
   },
   {
    "duration": 4,
    "start_time": "2022-08-03T07:11:53.016Z"
   },
   {
    "duration": 20,
    "start_time": "2022-08-03T07:11:55.947Z"
   },
   {
    "duration": 58,
    "start_time": "2022-08-03T07:12:01.255Z"
   },
   {
    "duration": 46,
    "start_time": "2022-08-03T07:12:04.670Z"
   },
   {
    "duration": 67,
    "start_time": "2022-08-03T07:12:07.425Z"
   },
   {
    "duration": 71,
    "start_time": "2022-08-03T07:12:09.783Z"
   },
   {
    "duration": 84,
    "start_time": "2022-08-03T07:12:11.590Z"
   },
   {
    "duration": 10,
    "start_time": "2022-08-03T07:12:14.335Z"
   },
   {
    "duration": 2,
    "start_time": "2022-08-03T07:12:17.721Z"
   },
   {
    "duration": 8,
    "start_time": "2022-08-03T07:12:22.092Z"
   },
   {
    "duration": 6,
    "start_time": "2022-08-03T07:12:24.621Z"
   },
   {
    "duration": 31,
    "start_time": "2022-08-03T07:12:30.162Z"
   },
   {
    "duration": 57,
    "start_time": "2022-08-03T07:12:42.948Z"
   },
   {
    "duration": 4,
    "start_time": "2022-08-03T07:12:47.433Z"
   },
   {
    "duration": 20,
    "start_time": "2022-08-03T07:12:50.524Z"
   },
   {
    "duration": 14,
    "start_time": "2022-08-03T07:12:53.154Z"
   },
   {
    "duration": 17,
    "start_time": "2022-08-03T07:12:55.434Z"
   },
   {
    "duration": 13,
    "start_time": "2022-08-03T07:12:57.186Z"
   },
   {
    "duration": 24,
    "start_time": "2022-08-03T07:13:00.678Z"
   },
   {
    "duration": 22,
    "start_time": "2022-08-03T07:13:02.997Z"
   },
   {
    "duration": 12,
    "start_time": "2022-08-03T07:13:07.187Z"
   },
   {
    "duration": 7,
    "start_time": "2022-08-03T07:15:00.796Z"
   },
   {
    "duration": 80,
    "start_time": "2022-08-03T07:16:24.874Z"
   },
   {
    "duration": 6,
    "start_time": "2022-08-03T07:16:44.220Z"
   },
   {
    "duration": 151,
    "start_time": "2022-08-03T07:17:15.618Z"
   },
   {
    "duration": 1731,
    "start_time": "2022-08-03T07:17:24.554Z"
   },
   {
    "duration": 1997,
    "start_time": "2022-08-03T07:17:49.620Z"
   },
   {
    "duration": 5,
    "start_time": "2022-08-03T07:18:26.648Z"
   },
   {
    "duration": 1783,
    "start_time": "2022-08-03T07:18:29.487Z"
   },
   {
    "duration": 3,
    "start_time": "2022-08-03T07:18:41.147Z"
   },
   {
    "duration": 169,
    "start_time": "2022-08-03T07:18:43.473Z"
   },
   {
    "duration": 14,
    "start_time": "2022-08-03T07:18:45.534Z"
   },
   {
    "duration": 27,
    "start_time": "2022-08-03T07:18:48.643Z"
   },
   {
    "duration": 4,
    "start_time": "2022-08-03T07:18:53.063Z"
   },
   {
    "duration": 7,
    "start_time": "2022-08-03T07:18:56.063Z"
   },
   {
    "duration": 4,
    "start_time": "2022-08-03T07:18:58.562Z"
   },
   {
    "duration": 25,
    "start_time": "2022-08-03T07:19:01.083Z"
   },
   {
    "duration": 63,
    "start_time": "2022-08-03T07:19:04.735Z"
   },
   {
    "duration": 21,
    "start_time": "2022-08-03T07:19:07.219Z"
   },
   {
    "duration": 77,
    "start_time": "2022-08-03T07:19:09.420Z"
   },
   {
    "duration": 69,
    "start_time": "2022-08-03T07:19:12.538Z"
   },
   {
    "duration": 50,
    "start_time": "2022-08-03T07:19:15.263Z"
   },
   {
    "duration": 6,
    "start_time": "2022-08-03T07:19:19.871Z"
   },
   {
    "duration": 3,
    "start_time": "2022-08-03T07:19:23.623Z"
   },
   {
    "duration": 10,
    "start_time": "2022-08-03T07:19:26.120Z"
   },
   {
    "duration": 7,
    "start_time": "2022-08-03T07:19:28.385Z"
   },
   {
    "duration": 28,
    "start_time": "2022-08-03T07:19:32.492Z"
   },
   {
    "duration": 26,
    "start_time": "2022-08-03T07:19:35.387Z"
   },
   {
    "duration": 4,
    "start_time": "2022-08-03T07:19:38.620Z"
   },
   {
    "duration": 17,
    "start_time": "2022-08-03T07:19:43.345Z"
   },
   {
    "duration": 26,
    "start_time": "2022-08-03T07:19:52.832Z"
   },
   {
    "duration": 15,
    "start_time": "2022-08-03T07:20:34.913Z"
   },
   {
    "duration": 17,
    "start_time": "2022-08-03T07:20:44.738Z"
   },
   {
    "duration": 7,
    "start_time": "2022-08-03T07:33:25.843Z"
   },
   {
    "duration": 4,
    "start_time": "2022-08-03T07:33:41.901Z"
   },
   {
    "duration": 124,
    "start_time": "2022-08-03T07:34:11.418Z"
   },
   {
    "duration": 129,
    "start_time": "2022-08-03T07:35:27.056Z"
   },
   {
    "duration": 146,
    "start_time": "2022-08-03T07:35:51.090Z"
   },
   {
    "duration": 11,
    "start_time": "2022-08-03T07:35:57.620Z"
   },
   {
    "duration": 10,
    "start_time": "2022-08-03T07:36:04.874Z"
   },
   {
    "duration": 5,
    "start_time": "2022-08-03T07:36:18.303Z"
   },
   {
    "duration": 523,
    "start_time": "2022-08-03T07:37:05.787Z"
   },
   {
    "duration": 21,
    "start_time": "2022-08-03T07:46:36.940Z"
   },
   {
    "duration": 32,
    "start_time": "2022-08-03T07:47:06.658Z"
   },
   {
    "duration": 64,
    "start_time": "2022-08-03T07:47:15.732Z"
   },
   {
    "duration": 59,
    "start_time": "2022-08-03T07:47:28.213Z"
   },
   {
    "duration": 113,
    "start_time": "2022-08-03T07:49:28.174Z"
   },
   {
    "duration": 134,
    "start_time": "2022-08-03T07:49:44.604Z"
   },
   {
    "duration": 63,
    "start_time": "2022-08-03T07:50:44.050Z"
   },
   {
    "duration": 110,
    "start_time": "2022-08-03T07:51:42.336Z"
   },
   {
    "duration": 102,
    "start_time": "2022-08-03T07:51:47.426Z"
   },
   {
    "duration": 1912,
    "start_time": "2022-08-03T07:51:53.054Z"
   },
   {
    "duration": 1939,
    "start_time": "2022-08-03T07:51:55.842Z"
   },
   {
    "duration": 2041,
    "start_time": "2022-08-03T07:53:17.573Z"
   },
   {
    "duration": 65,
    "start_time": "2022-08-03T07:53:44.851Z"
   },
   {
    "duration": 55,
    "start_time": "2022-08-03T07:54:12.858Z"
   },
   {
    "duration": 83,
    "start_time": "2022-08-03T07:54:22.203Z"
   },
   {
    "duration": 51,
    "start_time": "2022-08-03T07:54:31.184Z"
   },
   {
    "duration": 120,
    "start_time": "2022-08-03T07:56:09.093Z"
   },
   {
    "duration": 7,
    "start_time": "2022-08-03T07:56:14.262Z"
   },
   {
    "duration": 8,
    "start_time": "2022-08-03T08:00:41.425Z"
   },
   {
    "duration": 56,
    "start_time": "2022-08-03T08:00:58.862Z"
   },
   {
    "duration": 17,
    "start_time": "2022-08-03T08:02:25.454Z"
   },
   {
    "duration": 122,
    "start_time": "2022-08-03T08:02:56.254Z"
   },
   {
    "duration": 9,
    "start_time": "2022-08-03T08:03:11.146Z"
   },
   {
    "duration": 8,
    "start_time": "2022-08-03T08:03:19.304Z"
   },
   {
    "duration": 54,
    "start_time": "2022-08-03T08:06:50.125Z"
   },
   {
    "duration": 52,
    "start_time": "2022-08-03T08:07:29.369Z"
   },
   {
    "duration": 166,
    "start_time": "2022-08-03T08:07:41.520Z"
   },
   {
    "duration": 219,
    "start_time": "2022-08-03T08:07:54.845Z"
   },
   {
    "duration": 67,
    "start_time": "2022-08-03T08:08:08.707Z"
   },
   {
    "duration": 49,
    "start_time": "2022-08-03T08:08:15.938Z"
   },
   {
    "duration": 3,
    "start_time": "2022-08-03T08:10:47.420Z"
   },
   {
    "duration": 51,
    "start_time": "2022-08-03T08:10:50.844Z"
   },
   {
    "duration": 1717,
    "start_time": "2022-08-03T08:16:30.831Z"
   },
   {
    "duration": 6,
    "start_time": "2022-08-03T08:17:05.084Z"
   },
   {
    "duration": 3,
    "start_time": "2022-08-03T08:18:04.721Z"
   },
   {
    "duration": 98,
    "start_time": "2022-08-03T08:18:10.006Z"
   },
   {
    "duration": 47,
    "start_time": "2022-08-03T08:18:20.192Z"
   },
   {
    "duration": 4,
    "start_time": "2022-08-03T08:22:23.655Z"
   },
   {
    "duration": 11,
    "start_time": "2022-08-03T08:22:46.393Z"
   },
   {
    "duration": 50,
    "start_time": "2022-08-03T08:23:00.657Z"
   },
   {
    "duration": 32,
    "start_time": "2022-08-03T08:23:49.931Z"
   },
   {
    "duration": 19,
    "start_time": "2022-08-03T08:24:14.532Z"
   },
   {
    "duration": 46,
    "start_time": "2022-08-03T08:24:25.991Z"
   },
   {
    "duration": 30,
    "start_time": "2022-08-03T08:24:36.693Z"
   },
   {
    "duration": 37,
    "start_time": "2022-08-03T08:25:34.477Z"
   },
   {
    "duration": 23,
    "start_time": "2022-08-03T08:26:07.987Z"
   },
   {
    "duration": 13,
    "start_time": "2022-08-03T08:27:56.053Z"
   },
   {
    "duration": 19,
    "start_time": "2022-08-03T08:27:58.668Z"
   },
   {
    "duration": 15,
    "start_time": "2022-08-03T08:28:03.052Z"
   },
   {
    "duration": 9,
    "start_time": "2022-08-03T08:28:06.616Z"
   },
   {
    "duration": 10,
    "start_time": "2022-08-03T08:28:08.564Z"
   },
   {
    "duration": 3,
    "start_time": "2022-08-03T08:28:10.731Z"
   },
   {
    "duration": 30,
    "start_time": "2022-08-03T08:28:13.594Z"
   },
   {
    "duration": 22,
    "start_time": "2022-08-03T08:28:17.729Z"
   },
   {
    "duration": 38,
    "start_time": "2022-08-03T08:28:23.601Z"
   },
   {
    "duration": 26,
    "start_time": "2022-08-03T08:28:27.619Z"
   },
   {
    "duration": 3,
    "start_time": "2022-08-03T08:30:06.547Z"
   },
   {
    "duration": 162,
    "start_time": "2022-08-03T08:30:06.552Z"
   },
   {
    "duration": 8,
    "start_time": "2022-08-03T08:30:06.715Z"
   },
   {
    "duration": 30,
    "start_time": "2022-08-03T08:30:06.724Z"
   },
   {
    "duration": 7,
    "start_time": "2022-08-03T08:30:06.759Z"
   },
   {
    "duration": 8,
    "start_time": "2022-08-03T08:30:06.767Z"
   },
   {
    "duration": 3,
    "start_time": "2022-08-03T08:30:06.777Z"
   },
   {
    "duration": 29,
    "start_time": "2022-08-03T08:30:06.781Z"
   },
   {
    "duration": 58,
    "start_time": "2022-08-03T08:30:06.812Z"
   },
   {
    "duration": 19,
    "start_time": "2022-08-03T08:30:06.872Z"
   },
   {
    "duration": 64,
    "start_time": "2022-08-03T08:30:06.893Z"
   },
   {
    "duration": 59,
    "start_time": "2022-08-03T08:30:06.959Z"
   },
   {
    "duration": 61,
    "start_time": "2022-08-03T08:30:07.019Z"
   },
   {
    "duration": 6,
    "start_time": "2022-08-03T08:30:07.083Z"
   },
   {
    "duration": 6,
    "start_time": "2022-08-03T08:30:07.090Z"
   },
   {
    "duration": 11,
    "start_time": "2022-08-03T08:30:07.097Z"
   },
   {
    "duration": 6,
    "start_time": "2022-08-03T08:30:07.109Z"
   },
   {
    "duration": 52,
    "start_time": "2022-08-03T08:30:07.117Z"
   },
   {
    "duration": 26,
    "start_time": "2022-08-03T08:30:07.171Z"
   },
   {
    "duration": 3,
    "start_time": "2022-08-03T08:30:07.199Z"
   },
   {
    "duration": 16,
    "start_time": "2022-08-03T08:30:07.204Z"
   },
   {
    "duration": 40,
    "start_time": "2022-08-03T08:30:07.222Z"
   },
   {
    "duration": 15,
    "start_time": "2022-08-03T08:30:07.263Z"
   },
   {
    "duration": 14,
    "start_time": "2022-08-03T08:30:07.279Z"
   },
   {
    "duration": 14,
    "start_time": "2022-08-03T08:30:07.294Z"
   },
   {
    "duration": 15,
    "start_time": "2022-08-03T08:30:07.310Z"
   },
   {
    "duration": 30,
    "start_time": "2022-08-03T08:30:07.326Z"
   },
   {
    "duration": 23,
    "start_time": "2022-08-03T08:30:07.358Z"
   },
   {
    "duration": 10,
    "start_time": "2022-08-03T08:30:07.382Z"
   },
   {
    "duration": 4,
    "start_time": "2022-08-03T08:30:07.393Z"
   },
   {
    "duration": 33,
    "start_time": "2022-08-03T08:30:07.399Z"
   },
   {
    "duration": 37,
    "start_time": "2022-08-03T08:30:07.434Z"
   },
   {
    "duration": 38,
    "start_time": "2022-08-03T08:30:07.472Z"
   },
   {
    "duration": 22,
    "start_time": "2022-08-03T08:30:07.512Z"
   },
   {
    "duration": 2,
    "start_time": "2022-08-03T08:30:07.535Z"
   },
   {
    "duration": 10,
    "start_time": "2022-08-03T08:30:07.551Z"
   },
   {
    "duration": 4,
    "start_time": "2022-08-03T08:30:07.566Z"
   },
   {
    "duration": 6,
    "start_time": "2022-08-03T08:30:07.571Z"
   },
   {
    "duration": 2,
    "start_time": "2022-08-03T08:30:25.321Z"
   },
   {
    "duration": 171,
    "start_time": "2022-08-03T08:30:25.325Z"
   },
   {
    "duration": 9,
    "start_time": "2022-08-03T08:30:25.498Z"
   },
   {
    "duration": 60,
    "start_time": "2022-08-03T08:30:25.509Z"
   },
   {
    "duration": 5,
    "start_time": "2022-08-03T08:30:25.572Z"
   },
   {
    "duration": 31,
    "start_time": "2022-08-03T08:30:25.579Z"
   },
   {
    "duration": 21,
    "start_time": "2022-08-03T08:30:25.612Z"
   },
   {
    "duration": 34,
    "start_time": "2022-08-03T08:30:25.634Z"
   },
   {
    "duration": 60,
    "start_time": "2022-08-03T08:30:25.670Z"
   },
   {
    "duration": 32,
    "start_time": "2022-08-03T08:30:25.732Z"
   },
   {
    "duration": 82,
    "start_time": "2022-08-03T08:30:25.766Z"
   },
   {
    "duration": 57,
    "start_time": "2022-08-03T08:30:25.849Z"
   },
   {
    "duration": 55,
    "start_time": "2022-08-03T08:30:25.909Z"
   },
   {
    "duration": 6,
    "start_time": "2022-08-03T08:30:25.965Z"
   },
   {
    "duration": 13,
    "start_time": "2022-08-03T08:30:25.973Z"
   },
   {
    "duration": 29,
    "start_time": "2022-08-03T08:30:25.988Z"
   },
   {
    "duration": 26,
    "start_time": "2022-08-03T08:30:26.019Z"
   },
   {
    "duration": 90,
    "start_time": "2022-08-03T08:30:26.047Z"
   },
   {
    "duration": 34,
    "start_time": "2022-08-03T08:30:26.139Z"
   },
   {
    "duration": 27,
    "start_time": "2022-08-03T08:30:26.175Z"
   },
   {
    "duration": 57,
    "start_time": "2022-08-03T08:30:26.204Z"
   },
   {
    "duration": 26,
    "start_time": "2022-08-03T08:30:26.262Z"
   },
   {
    "duration": 28,
    "start_time": "2022-08-03T08:30:26.290Z"
   },
   {
    "duration": 25,
    "start_time": "2022-08-03T08:30:26.320Z"
   },
   {
    "duration": 36,
    "start_time": "2022-08-03T08:30:26.346Z"
   },
   {
    "duration": 18,
    "start_time": "2022-08-03T08:30:26.384Z"
   },
   {
    "duration": 19,
    "start_time": "2022-08-03T08:30:26.404Z"
   },
   {
    "duration": 28,
    "start_time": "2022-08-03T08:30:26.424Z"
   },
   {
    "duration": 36,
    "start_time": "2022-08-03T08:30:26.454Z"
   },
   {
    "duration": 9,
    "start_time": "2022-08-03T08:30:26.491Z"
   },
   {
    "duration": 40,
    "start_time": "2022-08-03T08:30:26.501Z"
   },
   {
    "duration": 19,
    "start_time": "2022-08-03T08:30:26.543Z"
   },
   {
    "duration": 54,
    "start_time": "2022-08-03T08:30:26.563Z"
   },
   {
    "duration": 23,
    "start_time": "2022-08-03T08:30:26.619Z"
   },
   {
    "duration": 12,
    "start_time": "2022-08-03T08:30:26.644Z"
   },
   {
    "duration": 22,
    "start_time": "2022-08-03T08:30:26.658Z"
   },
   {
    "duration": 20,
    "start_time": "2022-08-03T08:30:26.683Z"
   },
   {
    "duration": 20,
    "start_time": "2022-08-03T08:30:26.705Z"
   },
   {
    "duration": 4,
    "start_time": "2022-08-03T08:31:00.331Z"
   },
   {
    "duration": 34,
    "start_time": "2022-08-03T08:31:05.106Z"
   },
   {
    "duration": 3,
    "start_time": "2022-08-03T08:31:19.243Z"
   },
   {
    "duration": 33,
    "start_time": "2022-08-03T08:31:23.263Z"
   },
   {
    "duration": 4,
    "start_time": "2022-08-03T08:31:33.567Z"
   },
   {
    "duration": 29,
    "start_time": "2022-08-03T08:31:36.400Z"
   },
   {
    "duration": 4,
    "start_time": "2022-08-03T08:32:12.751Z"
   },
   {
    "duration": 38,
    "start_time": "2022-08-03T08:32:14.531Z"
   },
   {
    "duration": 24,
    "start_time": "2022-08-03T08:32:25.720Z"
   },
   {
    "duration": 44,
    "start_time": "2022-08-03T08:32:30.075Z"
   },
   {
    "duration": 29,
    "start_time": "2022-08-03T08:32:35.019Z"
   },
   {
    "duration": 27,
    "start_time": "2022-08-03T08:33:34.687Z"
   },
   {
    "duration": 40,
    "start_time": "2022-08-03T08:33:37.424Z"
   },
   {
    "duration": 9,
    "start_time": "2022-08-03T08:34:56.649Z"
   },
   {
    "duration": 8,
    "start_time": "2022-08-03T08:37:31.236Z"
   },
   {
    "duration": 38,
    "start_time": "2022-08-03T08:37:58.692Z"
   },
   {
    "duration": 37,
    "start_time": "2022-08-03T08:38:28.269Z"
   },
   {
    "duration": 35,
    "start_time": "2022-08-03T08:39:36.433Z"
   },
   {
    "duration": 9,
    "start_time": "2022-08-03T08:42:44.091Z"
   },
   {
    "duration": 43,
    "start_time": "2022-08-03T08:42:47.014Z"
   },
   {
    "duration": 17,
    "start_time": "2022-08-03T08:42:51.504Z"
   },
   {
    "duration": 21,
    "start_time": "2022-08-03T08:42:55.931Z"
   },
   {
    "duration": 23,
    "start_time": "2022-08-03T08:43:04.581Z"
   },
   {
    "duration": 19,
    "start_time": "2022-08-03T08:43:37.923Z"
   },
   {
    "duration": 30,
    "start_time": "2022-08-03T09:03:30.685Z"
   },
   {
    "duration": 21,
    "start_time": "2022-08-03T09:05:08.944Z"
   },
   {
    "duration": 114,
    "start_time": "2022-08-03T09:05:29.113Z"
   },
   {
    "duration": 8,
    "start_time": "2022-08-03T09:05:36.850Z"
   },
   {
    "duration": 15,
    "start_time": "2022-08-03T09:06:11.528Z"
   },
   {
    "duration": 8,
    "start_time": "2022-08-03T09:06:23.264Z"
   },
   {
    "duration": 3,
    "start_time": "2022-08-03T09:07:58.264Z"
   },
   {
    "duration": 195,
    "start_time": "2022-08-03T09:07:58.269Z"
   },
   {
    "duration": 13,
    "start_time": "2022-08-03T09:07:58.466Z"
   },
   {
    "duration": 42,
    "start_time": "2022-08-03T09:07:58.481Z"
   },
   {
    "duration": 3,
    "start_time": "2022-08-03T09:07:58.526Z"
   },
   {
    "duration": 8,
    "start_time": "2022-08-03T09:07:58.531Z"
   },
   {
    "duration": 3,
    "start_time": "2022-08-03T09:07:58.541Z"
   },
   {
    "duration": 22,
    "start_time": "2022-08-03T09:07:58.546Z"
   },
   {
    "duration": 74,
    "start_time": "2022-08-03T09:07:58.570Z"
   },
   {
    "duration": 22,
    "start_time": "2022-08-03T09:07:58.646Z"
   },
   {
    "duration": 71,
    "start_time": "2022-08-03T09:07:58.670Z"
   },
   {
    "duration": 73,
    "start_time": "2022-08-03T09:07:58.743Z"
   },
   {
    "duration": 55,
    "start_time": "2022-08-03T09:07:58.818Z"
   },
   {
    "duration": 7,
    "start_time": "2022-08-03T09:07:58.876Z"
   },
   {
    "duration": 3,
    "start_time": "2022-08-03T09:07:58.884Z"
   },
   {
    "duration": 24,
    "start_time": "2022-08-03T09:07:58.889Z"
   },
   {
    "duration": 6,
    "start_time": "2022-08-03T09:07:58.915Z"
   },
   {
    "duration": 31,
    "start_time": "2022-08-03T09:07:58.922Z"
   },
   {
    "duration": 57,
    "start_time": "2022-08-03T09:07:58.955Z"
   },
   {
    "duration": 4,
    "start_time": "2022-08-03T09:07:59.014Z"
   },
   {
    "duration": 19,
    "start_time": "2022-08-03T09:07:59.020Z"
   },
   {
    "duration": 13,
    "start_time": "2022-08-03T09:07:59.040Z"
   },
   {
    "duration": 22,
    "start_time": "2022-08-03T09:07:59.055Z"
   },
   {
    "duration": 34,
    "start_time": "2022-08-03T09:07:59.079Z"
   },
   {
    "duration": 16,
    "start_time": "2022-08-03T09:07:59.115Z"
   },
   {
    "duration": 14,
    "start_time": "2022-08-03T09:07:59.132Z"
   },
   {
    "duration": 8,
    "start_time": "2022-08-03T09:07:59.147Z"
   },
   {
    "duration": 20,
    "start_time": "2022-08-03T09:07:59.157Z"
   },
   {
    "duration": 33,
    "start_time": "2022-08-03T09:07:59.179Z"
   },
   {
    "duration": 7,
    "start_time": "2022-08-03T09:07:59.214Z"
   },
   {
    "duration": 24,
    "start_time": "2022-08-03T09:07:59.222Z"
   },
   {
    "duration": 16,
    "start_time": "2022-08-03T09:07:59.248Z"
   },
   {
    "duration": 43,
    "start_time": "2022-08-03T09:07:59.265Z"
   },
   {
    "duration": 17,
    "start_time": "2022-08-03T09:07:59.310Z"
   },
   {
    "duration": 22,
    "start_time": "2022-08-03T09:07:59.328Z"
   },
   {
    "duration": 8,
    "start_time": "2022-08-03T09:07:59.352Z"
   },
   {
    "duration": 17,
    "start_time": "2022-08-03T09:07:59.362Z"
   },
   {
    "duration": 9,
    "start_time": "2022-08-03T09:07:59.406Z"
   },
   {
    "duration": 2,
    "start_time": "2022-08-03T09:10:07.261Z"
   },
   {
    "duration": 159,
    "start_time": "2022-08-03T09:10:07.265Z"
   },
   {
    "duration": 8,
    "start_time": "2022-08-03T09:10:07.426Z"
   },
   {
    "duration": 29,
    "start_time": "2022-08-03T09:10:07.435Z"
   },
   {
    "duration": 3,
    "start_time": "2022-08-03T09:10:07.466Z"
   },
   {
    "duration": 9,
    "start_time": "2022-08-03T09:10:07.470Z"
   },
   {
    "duration": 3,
    "start_time": "2022-08-03T09:10:07.481Z"
   },
   {
    "duration": 41,
    "start_time": "2022-08-03T09:10:07.485Z"
   },
   {
    "duration": 52,
    "start_time": "2022-08-03T09:10:07.528Z"
   },
   {
    "duration": 29,
    "start_time": "2022-08-03T09:10:07.581Z"
   },
   {
    "duration": 55,
    "start_time": "2022-08-03T09:10:07.613Z"
   },
   {
    "duration": 81,
    "start_time": "2022-08-03T09:10:07.669Z"
   },
   {
    "duration": 59,
    "start_time": "2022-08-03T09:10:07.752Z"
   },
   {
    "duration": 7,
    "start_time": "2022-08-03T09:10:07.813Z"
   },
   {
    "duration": 3,
    "start_time": "2022-08-03T09:10:07.821Z"
   },
   {
    "duration": 100,
    "start_time": "2022-08-03T09:10:07.826Z"
   },
   {
    "duration": 7,
    "start_time": "2022-08-03T09:10:07.928Z"
   },
   {
    "duration": 30,
    "start_time": "2022-08-03T09:10:07.937Z"
   },
   {
    "duration": 59,
    "start_time": "2022-08-03T09:10:07.969Z"
   },
   {
    "duration": 3,
    "start_time": "2022-08-03T09:10:08.031Z"
   },
   {
    "duration": 26,
    "start_time": "2022-08-03T09:10:08.036Z"
   },
   {
    "duration": 13,
    "start_time": "2022-08-03T09:10:08.064Z"
   },
   {
    "duration": 13,
    "start_time": "2022-08-03T09:10:08.078Z"
   },
   {
    "duration": 13,
    "start_time": "2022-08-03T09:10:08.106Z"
   },
   {
    "duration": 15,
    "start_time": "2022-08-03T09:10:08.120Z"
   },
   {
    "duration": 11,
    "start_time": "2022-08-03T09:10:08.137Z"
   },
   {
    "duration": 8,
    "start_time": "2022-08-03T09:10:08.149Z"
   },
   {
    "duration": 20,
    "start_time": "2022-08-03T09:10:08.158Z"
   },
   {
    "duration": 34,
    "start_time": "2022-08-03T09:10:08.180Z"
   },
   {
    "duration": 3,
    "start_time": "2022-08-03T09:10:08.215Z"
   },
   {
    "duration": 25,
    "start_time": "2022-08-03T09:10:08.219Z"
   },
   {
    "duration": 15,
    "start_time": "2022-08-03T09:10:08.245Z"
   },
   {
    "duration": 21,
    "start_time": "2022-08-03T09:10:08.261Z"
   },
   {
    "duration": 15,
    "start_time": "2022-08-03T09:10:08.306Z"
   },
   {
    "duration": 23,
    "start_time": "2022-08-03T09:10:08.323Z"
   },
   {
    "duration": 8,
    "start_time": "2022-08-03T09:10:08.347Z"
   },
   {
    "duration": 15,
    "start_time": "2022-08-03T09:10:08.357Z"
   },
   {
    "duration": 32,
    "start_time": "2022-08-03T09:10:08.374Z"
   },
   {
    "duration": 427,
    "start_time": "2022-08-04T09:24:23.819Z"
   },
   {
    "duration": 328,
    "start_time": "2022-08-04T09:24:24.248Z"
   },
   {
    "duration": 9,
    "start_time": "2022-08-04T09:24:24.578Z"
   },
   {
    "duration": 51,
    "start_time": "2022-08-04T09:24:24.592Z"
   },
   {
    "duration": 3,
    "start_time": "2022-08-04T09:24:24.646Z"
   },
   {
    "duration": 18,
    "start_time": "2022-08-04T09:24:24.651Z"
   },
   {
    "duration": 11,
    "start_time": "2022-08-04T09:24:24.671Z"
   },
   {
    "duration": 60,
    "start_time": "2022-08-04T09:24:24.683Z"
   },
   {
    "duration": 87,
    "start_time": "2022-08-04T09:24:24.745Z"
   },
   {
    "duration": 28,
    "start_time": "2022-08-04T09:24:24.834Z"
   },
   {
    "duration": 102,
    "start_time": "2022-08-04T09:24:24.864Z"
   },
   {
    "duration": 105,
    "start_time": "2022-08-04T09:24:24.968Z"
   },
   {
    "duration": 119,
    "start_time": "2022-08-04T09:24:25.075Z"
   },
   {
    "duration": 12,
    "start_time": "2022-08-04T09:24:25.198Z"
   },
   {
    "duration": 14,
    "start_time": "2022-08-04T09:24:25.212Z"
   },
   {
    "duration": 18,
    "start_time": "2022-08-04T09:24:25.228Z"
   },
   {
    "duration": 21,
    "start_time": "2022-08-04T09:24:25.248Z"
   },
   {
    "duration": 99,
    "start_time": "2022-08-04T09:24:25.271Z"
   },
   {
    "duration": 48,
    "start_time": "2022-08-04T09:24:25.373Z"
   },
   {
    "duration": 5,
    "start_time": "2022-08-04T09:24:25.423Z"
   },
   {
    "duration": 27,
    "start_time": "2022-08-04T09:24:25.430Z"
   },
   {
    "duration": 40,
    "start_time": "2022-08-04T09:24:25.459Z"
   },
   {
    "duration": 26,
    "start_time": "2022-08-04T09:24:25.506Z"
   },
   {
    "duration": 24,
    "start_time": "2022-08-04T09:24:25.534Z"
   },
   {
    "duration": 43,
    "start_time": "2022-08-04T09:24:25.560Z"
   },
   {
    "duration": 23,
    "start_time": "2022-08-04T09:24:25.608Z"
   },
   {
    "duration": 12,
    "start_time": "2022-08-04T09:24:25.634Z"
   },
   {
    "duration": 17,
    "start_time": "2022-08-04T09:24:25.648Z"
   },
   {
    "duration": 30,
    "start_time": "2022-08-04T09:24:25.668Z"
   },
   {
    "duration": 21,
    "start_time": "2022-08-04T09:24:25.699Z"
   },
   {
    "duration": 31,
    "start_time": "2022-08-04T09:24:25.722Z"
   },
   {
    "duration": 47,
    "start_time": "2022-08-04T09:24:25.756Z"
   },
   {
    "duration": 46,
    "start_time": "2022-08-04T09:24:25.811Z"
   },
   {
    "duration": 17,
    "start_time": "2022-08-04T09:24:25.860Z"
   },
   {
    "duration": 43,
    "start_time": "2022-08-04T09:24:25.879Z"
   },
   {
    "duration": 13,
    "start_time": "2022-08-04T09:24:25.925Z"
   },
   {
    "duration": 40,
    "start_time": "2022-08-04T09:24:25.940Z"
   },
   {
    "duration": 48,
    "start_time": "2022-08-04T09:24:25.982Z"
   },
   {
    "duration": 14,
    "start_time": "2022-08-04T09:24:35.863Z"
   },
   {
    "duration": 60,
    "start_time": "2022-08-04T09:24:51.090Z"
   },
   {
    "duration": 4,
    "start_time": "2022-08-04T09:24:59.726Z"
   },
   {
    "duration": 191,
    "start_time": "2022-08-04T09:25:00.584Z"
   },
   {
    "duration": 21,
    "start_time": "2022-08-04T09:25:00.777Z"
   },
   {
    "duration": 30,
    "start_time": "2022-08-04T09:25:01.300Z"
   },
   {
    "duration": 4,
    "start_time": "2022-08-04T09:25:03.006Z"
   },
   {
    "duration": 7,
    "start_time": "2022-08-04T09:25:04.117Z"
   },
   {
    "duration": 3,
    "start_time": "2022-08-04T09:25:04.957Z"
   },
   {
    "duration": 40,
    "start_time": "2022-08-04T09:25:07.337Z"
   },
   {
    "duration": 66,
    "start_time": "2022-08-04T09:25:09.058Z"
   },
   {
    "duration": 27,
    "start_time": "2022-08-04T09:25:10.005Z"
   },
   {
    "duration": 90,
    "start_time": "2022-08-04T09:25:11.376Z"
   },
   {
    "duration": 72,
    "start_time": "2022-08-04T09:25:14.050Z"
   },
   {
    "duration": 13,
    "start_time": "2022-08-04T09:25:14.345Z"
   },
   {
    "duration": 166,
    "start_time": "2022-08-04T09:26:50.651Z"
   },
   {
    "duration": 10,
    "start_time": "2022-08-04T09:26:51.099Z"
   },
   {
    "duration": 29,
    "start_time": "2022-08-04T09:26:51.505Z"
   },
   {
    "duration": 3,
    "start_time": "2022-08-04T09:26:52.957Z"
   },
   {
    "duration": 6,
    "start_time": "2022-08-04T09:26:53.620Z"
   },
   {
    "duration": 4,
    "start_time": "2022-08-04T09:26:54.059Z"
   },
   {
    "duration": 25,
    "start_time": "2022-08-04T09:26:55.056Z"
   },
   {
    "duration": 56,
    "start_time": "2022-08-04T09:26:56.087Z"
   },
   {
    "duration": 32,
    "start_time": "2022-08-04T09:26:56.533Z"
   },
   {
    "duration": 80,
    "start_time": "2022-08-04T09:26:57.665Z"
   },
   {
    "duration": 95,
    "start_time": "2022-08-04T09:27:01.977Z"
   },
   {
    "duration": 81,
    "start_time": "2022-08-04T09:51:26.815Z"
   },
   {
    "duration": 412,
    "start_time": "2022-08-04T09:52:25.081Z"
   },
   {
    "duration": 179,
    "start_time": "2022-08-04T09:52:25.494Z"
   },
   {
    "duration": 8,
    "start_time": "2022-08-04T09:52:25.675Z"
   },
   {
    "duration": 76,
    "start_time": "2022-08-04T09:52:25.688Z"
   },
   {
    "duration": 6,
    "start_time": "2022-08-04T09:52:25.766Z"
   },
   {
    "duration": 21,
    "start_time": "2022-08-04T09:52:25.774Z"
   },
   {
    "duration": 22,
    "start_time": "2022-08-04T09:52:25.799Z"
   },
   {
    "duration": 46,
    "start_time": "2022-08-04T09:52:25.823Z"
   },
   {
    "duration": 68,
    "start_time": "2022-08-04T09:52:25.871Z"
   },
   {
    "duration": 25,
    "start_time": "2022-08-04T09:52:25.943Z"
   },
   {
    "duration": 102,
    "start_time": "2022-08-04T09:52:25.970Z"
   },
   {
    "duration": 101,
    "start_time": "2022-08-04T09:52:26.074Z"
   },
   {
    "duration": 112,
    "start_time": "2022-08-04T09:52:26.177Z"
   },
   {
    "duration": 14,
    "start_time": "2022-08-04T09:52:26.291Z"
   },
   {
    "duration": 24,
    "start_time": "2022-08-04T09:52:26.310Z"
   },
   {
    "duration": 31,
    "start_time": "2022-08-04T09:52:26.336Z"
   },
   {
    "duration": 11,
    "start_time": "2022-08-04T09:52:26.369Z"
   },
   {
    "duration": 80,
    "start_time": "2022-08-04T09:52:26.382Z"
   },
   {
    "duration": 50,
    "start_time": "2022-08-04T09:52:26.464Z"
   },
   {
    "duration": 5,
    "start_time": "2022-08-04T09:52:26.519Z"
   },
   {
    "duration": 68,
    "start_time": "2022-08-04T09:52:26.526Z"
   },
   {
    "duration": 113,
    "start_time": "2022-08-04T09:52:26.597Z"
   },
   {
    "duration": 38,
    "start_time": "2022-08-04T09:52:26.712Z"
   },
   {
    "duration": 83,
    "start_time": "2022-08-04T09:52:26.753Z"
   },
   {
    "duration": 25,
    "start_time": "2022-08-04T09:52:26.838Z"
   },
   {
    "duration": 30,
    "start_time": "2022-08-04T09:52:26.865Z"
   },
   {
    "duration": 14,
    "start_time": "2022-08-04T09:52:26.899Z"
   },
   {
    "duration": 15,
    "start_time": "2022-08-04T09:52:26.917Z"
   },
   {
    "duration": 14,
    "start_time": "2022-08-04T09:52:26.935Z"
   },
   {
    "duration": 4,
    "start_time": "2022-08-04T09:52:26.951Z"
   },
   {
    "duration": 64,
    "start_time": "2022-08-04T09:52:26.958Z"
   },
   {
    "duration": 23,
    "start_time": "2022-08-04T09:52:27.025Z"
   },
   {
    "duration": 42,
    "start_time": "2022-08-04T09:52:27.050Z"
   },
   {
    "duration": 23,
    "start_time": "2022-08-04T09:52:27.098Z"
   },
   {
    "duration": 38,
    "start_time": "2022-08-04T09:52:27.123Z"
   },
   {
    "duration": 32,
    "start_time": "2022-08-04T09:52:27.164Z"
   },
   {
    "duration": 40,
    "start_time": "2022-08-04T09:52:27.198Z"
   },
   {
    "duration": 12,
    "start_time": "2022-08-04T09:52:27.240Z"
   },
   {
    "duration": 320,
    "start_time": "2022-08-04T10:22:14.161Z"
   },
   {
    "duration": 415,
    "start_time": "2022-08-04T10:22:18.021Z"
   },
   {
    "duration": 57,
    "start_time": "2022-08-04T10:22:57.463Z"
   },
   {
    "duration": 106,
    "start_time": "2022-08-04T10:23:01.897Z"
   },
   {
    "duration": 14,
    "start_time": "2022-08-04T10:23:08.526Z"
   },
   {
    "duration": 10,
    "start_time": "2022-08-04T10:23:24.420Z"
   },
   {
    "duration": 14,
    "start_time": "2022-08-04T10:23:31.128Z"
   },
   {
    "duration": 24,
    "start_time": "2022-08-04T10:23:41.282Z"
   },
   {
    "duration": 23,
    "start_time": "2022-08-04T10:24:02.628Z"
   },
   {
    "duration": 3,
    "start_time": "2022-08-04T10:24:06.943Z"
   },
   {
    "duration": 4,
    "start_time": "2022-08-04T10:24:32.422Z"
   },
   {
    "duration": 11,
    "start_time": "2022-08-04T10:24:36.023Z"
   },
   {
    "duration": 3,
    "start_time": "2022-08-04T10:24:38.189Z"
   },
   {
    "duration": 21,
    "start_time": "2022-08-04T10:24:53.961Z"
   },
   {
    "duration": 21,
    "start_time": "2022-08-04T10:25:08.677Z"
   },
   {
    "duration": 59,
    "start_time": "2022-08-04T10:25:18.306Z"
   },
   {
    "duration": 3,
    "start_time": "2022-08-04T10:28:08.403Z"
   },
   {
    "duration": 157,
    "start_time": "2022-08-04T10:28:11.247Z"
   },
   {
    "duration": 10,
    "start_time": "2022-08-04T10:28:13.755Z"
   },
   {
    "duration": 26,
    "start_time": "2022-08-04T10:28:21.039Z"
   },
   {
    "duration": 5,
    "start_time": "2022-08-04T10:28:27.437Z"
   },
   {
    "duration": 4,
    "start_time": "2022-08-04T10:28:34.820Z"
   },
   {
    "duration": 10,
    "start_time": "2022-08-04T10:28:42.963Z"
   },
   {
    "duration": 5,
    "start_time": "2022-08-04T10:28:45.452Z"
   },
   {
    "duration": 30,
    "start_time": "2022-08-04T10:28:51.639Z"
   },
   {
    "duration": 50,
    "start_time": "2022-08-04T10:28:57.849Z"
   },
   {
    "duration": 37,
    "start_time": "2022-08-04T10:29:09.542Z"
   },
   {
    "duration": 71,
    "start_time": "2022-08-04T10:29:14.624Z"
   },
   {
    "duration": 77,
    "start_time": "2022-08-04T10:29:56.750Z"
   },
   {
    "duration": 53,
    "start_time": "2022-08-04T10:29:59.385Z"
   },
   {
    "duration": 8,
    "start_time": "2022-08-04T10:30:09.052Z"
   },
   {
    "duration": 10,
    "start_time": "2022-08-04T10:31:35.477Z"
   },
   {
    "duration": 9,
    "start_time": "2022-08-04T10:31:41.720Z"
   },
   {
    "duration": 65,
    "start_time": "2022-08-04T10:32:46.092Z"
   },
   {
    "duration": 67,
    "start_time": "2022-08-04T10:33:17.754Z"
   },
   {
    "duration": 46,
    "start_time": "2022-08-04T10:33:49.625Z"
   },
   {
    "duration": 3,
    "start_time": "2022-08-04T10:34:12.051Z"
   },
   {
    "duration": 8,
    "start_time": "2022-08-04T10:34:13.855Z"
   },
   {
    "duration": 52,
    "start_time": "2022-08-04T10:34:16.094Z"
   },
   {
    "duration": 34,
    "start_time": "2022-08-04T10:34:56.782Z"
   },
   {
    "duration": 30,
    "start_time": "2022-08-04T10:35:09.096Z"
   },
   {
    "duration": 3,
    "start_time": "2022-08-04T10:49:56.761Z"
   },
   {
    "duration": 7,
    "start_time": "2022-08-04T10:49:59.820Z"
   },
   {
    "duration": 10,
    "start_time": "2022-08-04T10:50:09.422Z"
   },
   {
    "duration": 8,
    "start_time": "2022-08-04T10:50:11.221Z"
   },
   {
    "duration": 3,
    "start_time": "2022-08-04T10:50:13.320Z"
   },
   {
    "duration": 15,
    "start_time": "2022-08-04T10:50:15.726Z"
   },
   {
    "duration": 4,
    "start_time": "2022-08-04T10:50:55.540Z"
   },
   {
    "duration": 15,
    "start_time": "2022-08-04T10:50:57.733Z"
   },
   {
    "duration": 3,
    "start_time": "2022-08-04T10:51:25.626Z"
   },
   {
    "duration": 16,
    "start_time": "2022-08-04T10:51:27.401Z"
   },
   {
    "duration": 104,
    "start_time": "2022-08-04T10:51:44.725Z"
   },
   {
    "duration": 4,
    "start_time": "2022-08-04T10:51:49.074Z"
   },
   {
    "duration": 23,
    "start_time": "2022-08-04T10:51:51.220Z"
   },
   {
    "duration": 3,
    "start_time": "2022-08-04T10:52:05.096Z"
   },
   {
    "duration": 24,
    "start_time": "2022-08-04T10:52:08.571Z"
   },
   {
    "duration": 12,
    "start_time": "2022-08-04T10:53:27.057Z"
   },
   {
    "duration": 12,
    "start_time": "2022-08-04T10:54:04.808Z"
   },
   {
    "duration": 3,
    "start_time": "2022-08-04T10:55:22.378Z"
   },
   {
    "duration": 15,
    "start_time": "2022-08-04T10:55:24.165Z"
   },
   {
    "duration": 14,
    "start_time": "2022-08-04T10:55:46.533Z"
   },
   {
    "duration": 2,
    "start_time": "2022-08-04T10:56:11.069Z"
   },
   {
    "duration": 180,
    "start_time": "2022-08-04T10:56:11.073Z"
   },
   {
    "duration": 10,
    "start_time": "2022-08-04T10:56:11.254Z"
   },
   {
    "duration": 25,
    "start_time": "2022-08-04T10:56:11.265Z"
   },
   {
    "duration": 16,
    "start_time": "2022-08-04T10:56:11.292Z"
   },
   {
    "duration": 9,
    "start_time": "2022-08-04T10:56:11.309Z"
   },
   {
    "duration": 3,
    "start_time": "2022-08-04T10:56:11.320Z"
   },
   {
    "duration": 22,
    "start_time": "2022-08-04T10:56:11.325Z"
   },
   {
    "duration": 39,
    "start_time": "2022-08-04T10:56:11.348Z"
   },
   {
    "duration": 20,
    "start_time": "2022-08-04T10:56:11.406Z"
   },
   {
    "duration": 59,
    "start_time": "2022-08-04T10:56:11.427Z"
   },
   {
    "duration": 76,
    "start_time": "2022-08-04T10:56:11.488Z"
   },
   {
    "duration": 64,
    "start_time": "2022-08-04T10:56:11.567Z"
   },
   {
    "duration": 43,
    "start_time": "2022-08-04T10:56:11.633Z"
   },
   {
    "duration": 3,
    "start_time": "2022-08-04T10:56:11.678Z"
   },
   {
    "duration": 26,
    "start_time": "2022-08-04T10:56:11.682Z"
   },
   {
    "duration": 44,
    "start_time": "2022-08-04T10:56:11.709Z"
   },
   {
    "duration": 10,
    "start_time": "2022-08-04T10:56:11.755Z"
   },
   {
    "duration": 10,
    "start_time": "2022-08-04T10:56:11.766Z"
   },
   {
    "duration": 3,
    "start_time": "2022-08-04T10:56:11.778Z"
   },
   {
    "duration": 54,
    "start_time": "2022-08-04T10:56:11.782Z"
   },
   {
    "duration": 11,
    "start_time": "2022-08-04T10:56:11.838Z"
   },
   {
    "duration": 13,
    "start_time": "2022-08-04T10:56:11.851Z"
   },
   {
    "duration": 12,
    "start_time": "2022-08-04T10:56:11.865Z"
   },
   {
    "duration": 14,
    "start_time": "2022-08-04T10:56:11.878Z"
   },
   {
    "duration": 13,
    "start_time": "2022-08-04T10:56:11.906Z"
   },
   {
    "duration": 8,
    "start_time": "2022-08-04T10:56:11.920Z"
   },
   {
    "duration": 13,
    "start_time": "2022-08-04T10:56:11.929Z"
   },
   {
    "duration": 9,
    "start_time": "2022-08-04T10:56:11.944Z"
   },
   {
    "duration": 4,
    "start_time": "2022-08-04T10:56:11.954Z"
   },
   {
    "duration": 16,
    "start_time": "2022-08-04T10:56:11.959Z"
   },
   {
    "duration": 46,
    "start_time": "2022-08-04T10:56:11.976Z"
   },
   {
    "duration": 23,
    "start_time": "2022-08-04T10:56:12.024Z"
   },
   {
    "duration": 17,
    "start_time": "2022-08-04T10:56:12.050Z"
   },
   {
    "duration": 19,
    "start_time": "2022-08-04T10:56:12.069Z"
   },
   {
    "duration": 21,
    "start_time": "2022-08-04T10:56:12.090Z"
   },
   {
    "duration": 21,
    "start_time": "2022-08-04T10:56:12.114Z"
   },
   {
    "duration": 8,
    "start_time": "2022-08-04T10:56:12.137Z"
   },
   {
    "duration": 3,
    "start_time": "2022-08-04T10:56:45.978Z"
   },
   {
    "duration": 17,
    "start_time": "2022-08-04T10:56:48.800Z"
   },
   {
    "duration": 4,
    "start_time": "2022-08-04T10:57:00.873Z"
   },
   {
    "duration": 16,
    "start_time": "2022-08-04T10:57:03.852Z"
   },
   {
    "duration": 3,
    "start_time": "2022-08-04T10:57:33.992Z"
   },
   {
    "duration": 21,
    "start_time": "2022-08-04T10:57:35.923Z"
   },
   {
    "duration": 3,
    "start_time": "2022-08-04T10:58:40.120Z"
   },
   {
    "duration": 1730,
    "start_time": "2022-08-04T10:58:42.239Z"
   },
   {
    "duration": 4,
    "start_time": "2022-08-04T11:01:55.666Z"
   },
   {
    "duration": 24,
    "start_time": "2022-08-04T11:01:58.106Z"
   },
   {
    "duration": 3,
    "start_time": "2022-08-04T11:02:25.119Z"
   },
   {
    "duration": 1774,
    "start_time": "2022-08-04T11:02:27.282Z"
   },
   {
    "duration": 3,
    "start_time": "2022-08-04T11:02:47.533Z"
   },
   {
    "duration": 25,
    "start_time": "2022-08-04T11:02:49.463Z"
   },
   {
    "duration": 3,
    "start_time": "2022-08-04T11:04:49.936Z"
   },
   {
    "duration": 25,
    "start_time": "2022-08-04T11:04:52.047Z"
   },
   {
    "duration": 5,
    "start_time": "2022-08-04T11:06:37.973Z"
   },
   {
    "duration": 1984,
    "start_time": "2022-08-04T11:06:39.896Z"
   },
   {
    "duration": 4,
    "start_time": "2022-08-04T11:06:59.917Z"
   },
   {
    "duration": 1741,
    "start_time": "2022-08-04T11:07:03.364Z"
   },
   {
    "duration": 3,
    "start_time": "2022-08-04T11:07:30.835Z"
   },
   {
    "duration": 1754,
    "start_time": "2022-08-04T11:07:45.687Z"
   },
   {
    "duration": 4,
    "start_time": "2022-08-04T11:08:04.522Z"
   },
   {
    "duration": 1659,
    "start_time": "2022-08-04T11:08:07.295Z"
   },
   {
    "duration": 4,
    "start_time": "2022-08-04T11:08:21.477Z"
   },
   {
    "duration": 18,
    "start_time": "2022-08-04T11:08:23.397Z"
   },
   {
    "duration": 19,
    "start_time": "2022-08-04T11:08:40.761Z"
   },
   {
    "duration": 12,
    "start_time": "2022-08-04T11:08:51.948Z"
   },
   {
    "duration": 13,
    "start_time": "2022-08-04T11:09:12.400Z"
   },
   {
    "duration": 19,
    "start_time": "2022-08-04T11:09:15.429Z"
   },
   {
    "duration": 14,
    "start_time": "2022-08-04T11:09:18.177Z"
   },
   {
    "duration": 25,
    "start_time": "2022-08-04T11:12:08.578Z"
   },
   {
    "duration": 25,
    "start_time": "2022-08-04T11:12:16.938Z"
   },
   {
    "duration": 20,
    "start_time": "2022-08-04T11:12:40.122Z"
   },
   {
    "duration": 5,
    "start_time": "2022-08-04T11:12:43.823Z"
   },
   {
    "duration": 8,
    "start_time": "2022-08-04T11:12:57.770Z"
   },
   {
    "duration": 14,
    "start_time": "2022-08-04T11:14:32.475Z"
   },
   {
    "duration": 5,
    "start_time": "2022-08-04T11:14:34.055Z"
   },
   {
    "duration": 6,
    "start_time": "2022-08-04T11:15:08.824Z"
   },
   {
    "duration": 7,
    "start_time": "2022-08-04T11:15:16.981Z"
   },
   {
    "duration": 4,
    "start_time": "2022-08-04T11:15:33.224Z"
   },
   {
    "duration": 3,
    "start_time": "2022-08-04T11:15:49.773Z"
   },
   {
    "duration": 170,
    "start_time": "2022-08-04T11:15:49.778Z"
   },
   {
    "duration": 9,
    "start_time": "2022-08-04T11:15:49.950Z"
   },
   {
    "duration": 28,
    "start_time": "2022-08-04T11:15:49.960Z"
   },
   {
    "duration": 16,
    "start_time": "2022-08-04T11:15:49.990Z"
   },
   {
    "duration": 5,
    "start_time": "2022-08-04T11:15:50.008Z"
   },
   {
    "duration": 9,
    "start_time": "2022-08-04T11:15:50.015Z"
   },
   {
    "duration": 33,
    "start_time": "2022-08-04T11:15:50.025Z"
   },
   {
    "duration": 59,
    "start_time": "2022-08-04T11:15:50.060Z"
   },
   {
    "duration": 19,
    "start_time": "2022-08-04T11:15:50.121Z"
   },
   {
    "duration": 65,
    "start_time": "2022-08-04T11:15:50.142Z"
   },
   {
    "duration": 59,
    "start_time": "2022-08-04T11:15:50.208Z"
   },
   {
    "duration": 61,
    "start_time": "2022-08-04T11:15:50.269Z"
   },
   {
    "duration": 43,
    "start_time": "2022-08-04T11:15:50.331Z"
   },
   {
    "duration": 2,
    "start_time": "2022-08-04T11:15:50.376Z"
   },
   {
    "duration": 26,
    "start_time": "2022-08-04T11:15:50.380Z"
   },
   {
    "duration": 43,
    "start_time": "2022-08-04T11:15:50.407Z"
   },
   {
    "duration": 11,
    "start_time": "2022-08-04T11:15:50.452Z"
   },
   {
    "duration": 12,
    "start_time": "2022-08-04T11:15:50.465Z"
   },
   {
    "duration": 4,
    "start_time": "2022-08-04T11:15:50.478Z"
   },
   {
    "duration": 16,
    "start_time": "2022-08-04T11:15:50.505Z"
   },
   {
    "duration": 13,
    "start_time": "2022-08-04T11:15:50.523Z"
   },
   {
    "duration": 16,
    "start_time": "2022-08-04T11:15:50.537Z"
   },
   {
    "duration": 23,
    "start_time": "2022-08-04T11:15:50.554Z"
   },
   {
    "duration": 39,
    "start_time": "2022-08-04T11:15:50.579Z"
   },
   {
    "duration": 15,
    "start_time": "2022-08-04T11:15:50.620Z"
   },
   {
    "duration": 8,
    "start_time": "2022-08-04T11:15:50.637Z"
   },
   {
    "duration": 13,
    "start_time": "2022-08-04T11:15:50.647Z"
   },
   {
    "duration": 12,
    "start_time": "2022-08-04T11:15:50.661Z"
   },
   {
    "duration": 32,
    "start_time": "2022-08-04T11:15:50.674Z"
   },
   {
    "duration": 21,
    "start_time": "2022-08-04T11:15:50.708Z"
   },
   {
    "duration": 15,
    "start_time": "2022-08-04T11:15:50.732Z"
   },
   {
    "duration": 21,
    "start_time": "2022-08-04T11:15:50.748Z"
   },
   {
    "duration": 45,
    "start_time": "2022-08-04T11:15:50.770Z"
   },
   {
    "duration": 33,
    "start_time": "2022-08-04T11:15:50.817Z"
   },
   {
    "duration": 4,
    "start_time": "2022-08-04T11:15:50.852Z"
   },
   {
    "duration": 20,
    "start_time": "2022-08-04T11:15:50.860Z"
   },
   {
    "duration": 27,
    "start_time": "2022-08-04T11:15:50.881Z"
   },
   {
    "duration": 3,
    "start_time": "2022-08-04T11:17:42.900Z"
   },
   {
    "duration": 21,
    "start_time": "2022-08-04T11:17:45.032Z"
   },
   {
    "duration": 3,
    "start_time": "2022-08-04T11:17:57.339Z"
   },
   {
    "duration": 21,
    "start_time": "2022-08-04T11:17:59.454Z"
   },
   {
    "duration": 4,
    "start_time": "2022-08-04T11:18:10.360Z"
   },
   {
    "duration": 28,
    "start_time": "2022-08-04T11:18:12.288Z"
   },
   {
    "duration": 4,
    "start_time": "2022-08-04T11:18:17.154Z"
   },
   {
    "duration": 153,
    "start_time": "2022-08-04T11:18:17.160Z"
   },
   {
    "duration": 10,
    "start_time": "2022-08-04T11:18:17.314Z"
   },
   {
    "duration": 28,
    "start_time": "2022-08-04T11:18:17.325Z"
   },
   {
    "duration": 20,
    "start_time": "2022-08-04T11:18:17.355Z"
   },
   {
    "duration": 20,
    "start_time": "2022-08-04T11:18:17.376Z"
   },
   {
    "duration": 9,
    "start_time": "2022-08-04T11:18:17.398Z"
   },
   {
    "duration": 40,
    "start_time": "2022-08-04T11:18:17.408Z"
   },
   {
    "duration": 54,
    "start_time": "2022-08-04T11:18:17.449Z"
   },
   {
    "duration": 20,
    "start_time": "2022-08-04T11:18:17.505Z"
   },
   {
    "duration": 56,
    "start_time": "2022-08-04T11:18:17.528Z"
   },
   {
    "duration": 75,
    "start_time": "2022-08-04T11:18:17.586Z"
   },
   {
    "duration": 58,
    "start_time": "2022-08-04T11:18:17.662Z"
   },
   {
    "duration": 43,
    "start_time": "2022-08-04T11:18:17.721Z"
   },
   {
    "duration": 3,
    "start_time": "2022-08-04T11:18:17.766Z"
   },
   {
    "duration": 28,
    "start_time": "2022-08-04T11:18:17.770Z"
   },
   {
    "duration": 52,
    "start_time": "2022-08-04T11:18:17.800Z"
   },
   {
    "duration": 12,
    "start_time": "2022-08-04T11:18:17.854Z"
   },
   {
    "duration": 11,
    "start_time": "2022-08-04T11:18:17.868Z"
   },
   {
    "duration": 3,
    "start_time": "2022-08-04T11:18:17.880Z"
   },
   {
    "duration": 31,
    "start_time": "2022-08-04T11:18:17.884Z"
   },
   {
    "duration": 13,
    "start_time": "2022-08-04T11:18:17.917Z"
   },
   {
    "duration": 14,
    "start_time": "2022-08-04T11:18:17.931Z"
   },
   {
    "duration": 12,
    "start_time": "2022-08-04T11:18:17.946Z"
   },
   {
    "duration": 15,
    "start_time": "2022-08-04T11:18:17.959Z"
   },
   {
    "duration": 12,
    "start_time": "2022-08-04T11:18:18.006Z"
   },
   {
    "duration": 7,
    "start_time": "2022-08-04T11:18:18.020Z"
   },
   {
    "duration": 15,
    "start_time": "2022-08-04T11:18:18.028Z"
   },
   {
    "duration": 11,
    "start_time": "2022-08-04T11:18:18.047Z"
   },
   {
    "duration": 5,
    "start_time": "2022-08-04T11:18:18.061Z"
   },
   {
    "duration": 60,
    "start_time": "2022-08-04T11:18:18.067Z"
   },
   {
    "duration": 15,
    "start_time": "2022-08-04T11:18:18.129Z"
   },
   {
    "duration": 20,
    "start_time": "2022-08-04T11:18:18.146Z"
   },
   {
    "duration": 13,
    "start_time": "2022-08-04T11:18:18.167Z"
   },
   {
    "duration": 42,
    "start_time": "2022-08-04T11:18:18.181Z"
   },
   {
    "duration": 5,
    "start_time": "2022-08-04T11:18:18.224Z"
   },
   {
    "duration": 13,
    "start_time": "2022-08-04T11:18:18.231Z"
   },
   {
    "duration": 5,
    "start_time": "2022-08-04T11:18:18.246Z"
   },
   {
    "duration": 419,
    "start_time": "2022-08-05T03:47:34.795Z"
   },
   {
    "duration": 209,
    "start_time": "2022-08-05T03:47:35.442Z"
   },
   {
    "duration": 17,
    "start_time": "2022-08-05T03:47:35.754Z"
   },
   {
    "duration": 26,
    "start_time": "2022-08-05T03:47:36.387Z"
   },
   {
    "duration": 4,
    "start_time": "2022-08-05T03:47:38.230Z"
   },
   {
    "duration": 10,
    "start_time": "2022-08-05T03:47:39.606Z"
   },
   {
    "duration": 4,
    "start_time": "2022-08-05T03:47:41.010Z"
   },
   {
    "duration": 21,
    "start_time": "2022-08-05T03:47:42.108Z"
   },
   {
    "duration": 51,
    "start_time": "2022-08-05T03:47:44.309Z"
   },
   {
    "duration": 24,
    "start_time": "2022-08-05T03:47:44.930Z"
   },
   {
    "duration": 61,
    "start_time": "2022-08-05T03:47:45.837Z"
   },
   {
    "duration": 80,
    "start_time": "2022-08-05T03:47:49.016Z"
   },
   {
    "duration": 13,
    "start_time": "2022-08-05T03:47:54.126Z"
   },
   {
    "duration": 10,
    "start_time": "2022-08-05T03:49:31.389Z"
   },
   {
    "duration": 85,
    "start_time": "2022-08-05T08:29:46.410Z"
   },
   {
    "duration": 104,
    "start_time": "2022-08-05T08:32:51.619Z"
   },
   {
    "duration": 45,
    "start_time": "2022-08-05T11:18:23.351Z"
   },
   {
    "duration": 415,
    "start_time": "2022-08-05T11:18:29.113Z"
   },
   {
    "duration": 842,
    "start_time": "2022-08-05T11:18:29.530Z"
   },
   {
    "duration": 19,
    "start_time": "2022-08-05T11:18:30.374Z"
   },
   {
    "duration": 39,
    "start_time": "2022-08-05T11:18:30.395Z"
   },
   {
    "duration": 19,
    "start_time": "2022-08-05T11:18:30.437Z"
   },
   {
    "duration": 34,
    "start_time": "2022-08-05T11:18:30.458Z"
   },
   {
    "duration": 32,
    "start_time": "2022-08-05T11:18:30.493Z"
   },
   {
    "duration": 57,
    "start_time": "2022-08-05T11:18:30.527Z"
   },
   {
    "duration": 68,
    "start_time": "2022-08-05T11:18:30.585Z"
   },
   {
    "duration": 24,
    "start_time": "2022-08-05T11:18:30.654Z"
   },
   {
    "duration": 96,
    "start_time": "2022-08-05T11:18:30.680Z"
   },
   {
    "duration": 80,
    "start_time": "2022-08-05T11:18:30.778Z"
   },
   {
    "duration": 11,
    "start_time": "2022-08-05T11:18:30.860Z"
   },
   {
    "duration": 88,
    "start_time": "2022-08-05T11:18:30.876Z"
   },
   {
    "duration": 46,
    "start_time": "2022-08-05T11:18:30.966Z"
   },
   {
    "duration": 3,
    "start_time": "2022-08-05T11:18:31.014Z"
   },
   {
    "duration": 36,
    "start_time": "2022-08-05T11:18:31.018Z"
   },
   {
    "duration": 59,
    "start_time": "2022-08-05T11:18:31.055Z"
   },
   {
    "duration": 13,
    "start_time": "2022-08-05T11:18:31.115Z"
   },
   {
    "duration": 27,
    "start_time": "2022-08-05T11:18:31.129Z"
   },
   {
    "duration": 24,
    "start_time": "2022-08-05T11:18:31.158Z"
   },
   {
    "duration": 47,
    "start_time": "2022-08-05T11:18:31.184Z"
   },
   {
    "duration": 28,
    "start_time": "2022-08-05T11:18:31.233Z"
   },
   {
    "duration": 31,
    "start_time": "2022-08-05T11:18:31.263Z"
   },
   {
    "duration": 44,
    "start_time": "2022-08-05T11:18:31.295Z"
   },
   {
    "duration": 32,
    "start_time": "2022-08-05T11:18:31.340Z"
   },
   {
    "duration": 19,
    "start_time": "2022-08-05T11:18:31.373Z"
   },
   {
    "duration": 16,
    "start_time": "2022-08-05T11:18:31.393Z"
   },
   {
    "duration": 14,
    "start_time": "2022-08-05T11:18:31.410Z"
   },
   {
    "duration": 20,
    "start_time": "2022-08-05T11:18:31.426Z"
   },
   {
    "duration": 9,
    "start_time": "2022-08-05T11:18:31.448Z"
   },
   {
    "duration": 26,
    "start_time": "2022-08-05T11:18:31.458Z"
   },
   {
    "duration": 15,
    "start_time": "2022-08-05T11:18:31.486Z"
   },
   {
    "duration": 30,
    "start_time": "2022-08-05T11:18:31.502Z"
   },
   {
    "duration": 17,
    "start_time": "2022-08-05T11:18:31.533Z"
   },
   {
    "duration": 31,
    "start_time": "2022-08-05T11:18:31.552Z"
   },
   {
    "duration": 8,
    "start_time": "2022-08-05T11:18:31.585Z"
   },
   {
    "duration": 28,
    "start_time": "2022-08-05T11:18:31.594Z"
   },
   {
    "duration": 10,
    "start_time": "2022-08-05T11:18:31.624Z"
   },
   {
    "duration": 3,
    "start_time": "2022-08-05T11:20:58.305Z"
   },
   {
    "duration": 58,
    "start_time": "2022-08-05T11:21:01.777Z"
   },
   {
    "duration": 4,
    "start_time": "2022-08-05T11:21:11.179Z"
   },
   {
    "duration": 16,
    "start_time": "2022-08-05T11:21:13.595Z"
   },
   {
    "duration": 11,
    "start_time": "2022-08-05T11:21:22.235Z"
   },
   {
    "duration": 3,
    "start_time": "2022-08-05T11:21:29.610Z"
   },
   {
    "duration": 190,
    "start_time": "2022-08-05T11:21:29.615Z"
   },
   {
    "duration": 11,
    "start_time": "2022-08-05T11:21:29.808Z"
   },
   {
    "duration": 34,
    "start_time": "2022-08-05T11:21:29.821Z"
   },
   {
    "duration": 4,
    "start_time": "2022-08-05T11:21:29.857Z"
   },
   {
    "duration": 28,
    "start_time": "2022-08-05T11:21:29.863Z"
   },
   {
    "duration": 5,
    "start_time": "2022-08-05T11:21:29.893Z"
   },
   {
    "duration": 25,
    "start_time": "2022-08-05T11:21:29.900Z"
   },
   {
    "duration": 65,
    "start_time": "2022-08-05T11:21:29.926Z"
   },
   {
    "duration": 27,
    "start_time": "2022-08-05T11:21:29.993Z"
   },
   {
    "duration": 77,
    "start_time": "2022-08-05T11:21:30.024Z"
   },
   {
    "duration": 66,
    "start_time": "2022-08-05T11:21:30.103Z"
   },
   {
    "duration": 23,
    "start_time": "2022-08-05T11:21:30.171Z"
   },
   {
    "duration": 65,
    "start_time": "2022-08-05T11:21:30.195Z"
   },
   {
    "duration": 53,
    "start_time": "2022-08-05T11:21:30.262Z"
   },
   {
    "duration": 4,
    "start_time": "2022-08-05T11:21:30.317Z"
   },
   {
    "duration": 20,
    "start_time": "2022-08-05T11:21:30.322Z"
   },
   {
    "duration": 51,
    "start_time": "2022-08-05T11:21:30.344Z"
   },
   {
    "duration": 12,
    "start_time": "2022-08-05T11:21:30.396Z"
   },
   {
    "duration": 16,
    "start_time": "2022-08-05T11:21:30.410Z"
   },
   {
    "duration": 13,
    "start_time": "2022-08-05T11:21:30.428Z"
   },
   {
    "duration": 37,
    "start_time": "2022-08-05T11:21:30.443Z"
   },
   {
    "duration": 20,
    "start_time": "2022-08-05T11:21:30.482Z"
   },
   {
    "duration": 20,
    "start_time": "2022-08-05T11:21:30.504Z"
   },
   {
    "duration": 14,
    "start_time": "2022-08-05T11:21:30.526Z"
   },
   {
    "duration": 24,
    "start_time": "2022-08-05T11:21:30.542Z"
   },
   {
    "duration": 31,
    "start_time": "2022-08-05T11:21:30.567Z"
   },
   {
    "duration": 13,
    "start_time": "2022-08-05T11:21:30.600Z"
   },
   {
    "duration": 16,
    "start_time": "2022-08-05T11:21:30.617Z"
   },
   {
    "duration": 14,
    "start_time": "2022-08-05T11:21:30.635Z"
   },
   {
    "duration": 8,
    "start_time": "2022-08-05T11:21:30.651Z"
   },
   {
    "duration": 32,
    "start_time": "2022-08-05T11:21:30.660Z"
   },
   {
    "duration": 20,
    "start_time": "2022-08-05T11:21:30.693Z"
   },
   {
    "duration": 25,
    "start_time": "2022-08-05T11:21:30.715Z"
   },
   {
    "duration": 18,
    "start_time": "2022-08-05T11:21:30.742Z"
   },
   {
    "duration": 31,
    "start_time": "2022-08-05T11:21:30.761Z"
   },
   {
    "duration": 29,
    "start_time": "2022-08-05T11:21:30.794Z"
   },
   {
    "duration": 57,
    "start_time": "2022-08-05T11:21:30.825Z"
   },
   {
    "duration": 28,
    "start_time": "2022-08-05T11:21:30.884Z"
   },
   {
    "duration": 10,
    "start_time": "2022-08-05T11:22:17.466Z"
   },
   {
    "duration": 6,
    "start_time": "2022-08-05T11:22:25.353Z"
   },
   {
    "duration": 7,
    "start_time": "2022-08-05T11:22:32.115Z"
   },
   {
    "duration": 10,
    "start_time": "2022-08-05T11:23:11.979Z"
   },
   {
    "duration": 4,
    "start_time": "2022-08-05T11:23:21.062Z"
   },
   {
    "duration": 5,
    "start_time": "2022-08-05T11:23:24.918Z"
   },
   {
    "duration": 3,
    "start_time": "2022-08-05T11:23:37.209Z"
   },
   {
    "duration": 197,
    "start_time": "2022-08-05T11:23:37.214Z"
   },
   {
    "duration": 11,
    "start_time": "2022-08-05T11:23:37.413Z"
   },
   {
    "duration": 32,
    "start_time": "2022-08-05T11:23:37.426Z"
   },
   {
    "duration": 4,
    "start_time": "2022-08-05T11:23:37.460Z"
   },
   {
    "duration": 29,
    "start_time": "2022-08-05T11:23:37.466Z"
   },
   {
    "duration": 7,
    "start_time": "2022-08-05T11:23:37.497Z"
   },
   {
    "duration": 28,
    "start_time": "2022-08-05T11:23:37.505Z"
   },
   {
    "duration": 64,
    "start_time": "2022-08-05T11:23:37.535Z"
   },
   {
    "duration": 28,
    "start_time": "2022-08-05T11:23:37.600Z"
   },
   {
    "duration": 77,
    "start_time": "2022-08-05T11:23:37.630Z"
   },
   {
    "duration": 87,
    "start_time": "2022-08-05T11:23:37.709Z"
   },
   {
    "duration": 10,
    "start_time": "2022-08-05T11:23:37.799Z"
   },
   {
    "duration": 55,
    "start_time": "2022-08-05T11:23:37.811Z"
   },
   {
    "duration": 70,
    "start_time": "2022-08-05T11:23:37.868Z"
   },
   {
    "duration": 4,
    "start_time": "2022-08-05T11:23:37.940Z"
   },
   {
    "duration": 14,
    "start_time": "2022-08-05T11:23:37.945Z"
   },
   {
    "duration": 68,
    "start_time": "2022-08-05T11:23:37.960Z"
   },
   {
    "duration": 11,
    "start_time": "2022-08-05T11:23:38.030Z"
   },
   {
    "duration": 12,
    "start_time": "2022-08-05T11:23:38.043Z"
   },
   {
    "duration": 3,
    "start_time": "2022-08-05T11:23:38.057Z"
   },
   {
    "duration": 40,
    "start_time": "2022-08-05T11:23:38.062Z"
   },
   {
    "duration": 15,
    "start_time": "2022-08-05T11:23:38.104Z"
   },
   {
    "duration": 15,
    "start_time": "2022-08-05T11:23:38.120Z"
   },
   {
    "duration": 14,
    "start_time": "2022-08-05T11:23:38.137Z"
   },
   {
    "duration": 43,
    "start_time": "2022-08-05T11:23:38.152Z"
   },
   {
    "duration": 15,
    "start_time": "2022-08-05T11:23:38.196Z"
   },
   {
    "duration": 8,
    "start_time": "2022-08-05T11:23:38.213Z"
   },
   {
    "duration": 31,
    "start_time": "2022-08-05T11:23:38.223Z"
   },
   {
    "duration": 12,
    "start_time": "2022-08-05T11:23:38.255Z"
   },
   {
    "duration": 4,
    "start_time": "2022-08-05T11:23:38.268Z"
   },
   {
    "duration": 32,
    "start_time": "2022-08-05T11:23:38.274Z"
   },
   {
    "duration": 16,
    "start_time": "2022-08-05T11:23:38.307Z"
   },
   {
    "duration": 17,
    "start_time": "2022-08-05T11:23:38.324Z"
   },
   {
    "duration": 11,
    "start_time": "2022-08-05T11:23:38.342Z"
   },
   {
    "duration": 9,
    "start_time": "2022-08-05T11:23:38.355Z"
   },
   {
    "duration": 5,
    "start_time": "2022-08-05T11:23:38.391Z"
   },
   {
    "duration": 11,
    "start_time": "2022-08-05T11:23:38.397Z"
   },
   {
    "duration": 7,
    "start_time": "2022-08-05T11:23:38.409Z"
   },
   {
    "duration": 3,
    "start_time": "2022-08-05T11:23:42.201Z"
   },
   {
    "duration": 165,
    "start_time": "2022-08-05T11:23:42.206Z"
   },
   {
    "duration": 10,
    "start_time": "2022-08-05T11:23:42.373Z"
   },
   {
    "duration": 27,
    "start_time": "2022-08-05T11:23:42.392Z"
   },
   {
    "duration": 3,
    "start_time": "2022-08-05T11:23:42.421Z"
   },
   {
    "duration": 7,
    "start_time": "2022-08-05T11:23:42.426Z"
   },
   {
    "duration": 3,
    "start_time": "2022-08-05T11:23:42.435Z"
   },
   {
    "duration": 26,
    "start_time": "2022-08-05T11:23:42.440Z"
   },
   {
    "duration": 67,
    "start_time": "2022-08-05T11:23:42.467Z"
   },
   {
    "duration": 22,
    "start_time": "2022-08-05T11:23:42.536Z"
   },
   {
    "duration": 73,
    "start_time": "2022-08-05T11:23:42.561Z"
   },
   {
    "duration": 68,
    "start_time": "2022-08-05T11:23:42.636Z"
   },
   {
    "duration": 10,
    "start_time": "2022-08-05T11:23:42.706Z"
   },
   {
    "duration": 56,
    "start_time": "2022-08-05T11:23:42.717Z"
   },
   {
    "duration": 64,
    "start_time": "2022-08-05T11:23:42.774Z"
   },
   {
    "duration": 3,
    "start_time": "2022-08-05T11:23:42.839Z"
   },
   {
    "duration": 17,
    "start_time": "2022-08-05T11:23:42.844Z"
   },
   {
    "duration": 60,
    "start_time": "2022-08-05T11:23:42.863Z"
   },
   {
    "duration": 11,
    "start_time": "2022-08-05T11:23:42.925Z"
   },
   {
    "duration": 11,
    "start_time": "2022-08-05T11:23:42.938Z"
   },
   {
    "duration": 3,
    "start_time": "2022-08-05T11:23:42.951Z"
   },
   {
    "duration": 40,
    "start_time": "2022-08-05T11:23:42.955Z"
   },
   {
    "duration": 13,
    "start_time": "2022-08-05T11:23:42.997Z"
   },
   {
    "duration": 14,
    "start_time": "2022-08-05T11:23:43.012Z"
   },
   {
    "duration": 14,
    "start_time": "2022-08-05T11:23:43.028Z"
   },
   {
    "duration": 17,
    "start_time": "2022-08-05T11:23:43.043Z"
   },
   {
    "duration": 40,
    "start_time": "2022-08-05T11:23:43.061Z"
   },
   {
    "duration": 8,
    "start_time": "2022-08-05T11:23:43.102Z"
   },
   {
    "duration": 17,
    "start_time": "2022-08-05T11:23:43.112Z"
   },
   {
    "duration": 10,
    "start_time": "2022-08-05T11:23:43.131Z"
   },
   {
    "duration": 3,
    "start_time": "2022-08-05T11:23:43.143Z"
   },
   {
    "duration": 46,
    "start_time": "2022-08-05T11:23:43.147Z"
   },
   {
    "duration": 12,
    "start_time": "2022-08-05T11:23:43.194Z"
   },
   {
    "duration": 22,
    "start_time": "2022-08-05T11:23:43.208Z"
   },
   {
    "duration": 13,
    "start_time": "2022-08-05T11:23:43.231Z"
   },
   {
    "duration": 8,
    "start_time": "2022-08-05T11:23:43.246Z"
   },
   {
    "duration": 4,
    "start_time": "2022-08-05T11:23:43.255Z"
   },
   {
    "duration": 34,
    "start_time": "2022-08-05T11:23:43.260Z"
   },
   {
    "duration": 5,
    "start_time": "2022-08-05T11:23:43.296Z"
   }
  ],
  "colab": {
   "collapsed_sections": [
    "E0vqbgi9ay0H",
    "VUC88oWjTJw2",
    "atZAxtq4_Zcu"
   ],
   "name": "EmptyFinalProject.ipynb\"",
   "provenance": []
  },
  "kernelspec": {
   "display_name": "Python 3 (ipykernel)",
   "language": "python",
   "name": "python3"
  },
  "language_info": {
   "codemirror_mode": {
    "name": "ipython",
    "version": 3
   },
   "file_extension": ".py",
   "mimetype": "text/x-python",
   "name": "python",
   "nbconvert_exporter": "python",
   "pygments_lexer": "ipython3",
   "version": "3.9.5"
  },
  "toc": {
   "base_numbering": 1,
   "nav_menu": {},
   "number_sections": true,
   "sideBar": true,
   "skip_h1_title": true,
   "title_cell": "Table of Contents",
   "title_sidebar": "Contents",
   "toc_cell": false,
   "toc_position": {},
   "toc_section_display": true,
   "toc_window_display": false
  }
 },
 "nbformat": 4,
 "nbformat_minor": 4
}
